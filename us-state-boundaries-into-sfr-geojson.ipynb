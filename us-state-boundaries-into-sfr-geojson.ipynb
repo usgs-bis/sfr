{
 "cells": [
  {
   "cell_type": "markdown",
   "metadata": {},
   "source": [
    "# U.S. State Boundaries into the Spatial Feature Registry\n",
    "\n",
    "#### This code is in progress.  The code registers the state boundaries (U.S.) into the Spatial Feature Registry (SFR within Data Distilleries GC2 instance) using the following workflow.  All data are retained from the source (unaltered), three registration fields are added (_id, reg_date, reg_source) and data are exported to a GeoJSON file.   The GeoJSON file is then uploaded to ScienceBase to document the final data as it is represented in the SFR.  Currently we are uploading data to the SFR using a manual process, with plans to automate this step in the future. \n",
    "\n",
    "#### General workflow involves:\n",
    "     1: Retrieve Data From Source (ScienceBase Item: 58259697e4b01fad86db263f)\n",
    "     2: Create GeoDataFrame and identify native crs\n",
    "     3: Define Variables needed throughout process\n",
    "     4: Create new ScienceBase item to describe registration process\n",
    "     5: Build and export GeoJSON representation of the data.  This process includes the addition of two registration fields that document information about registration (reg_source-> points to new SB item), and a registered uuid (_id).  \n",
    "     6: Upload GeoJSON file to new ScienceBase item to document what was registered into SFR, along with additional information about when and how registration occured.  This process will likely change as we introduce a more systematic way of tracking prov.   During this step the user will upload data to GC2 as well (SFR schema).  Currently this process is done manually through the UI.\n",
    "     "
   ]
  },
  {
   "cell_type": "markdown",
   "metadata": {
    "collapsed": true
   },
   "source": [
    "Code by: Daniel Wieferich (USGS)\n",
    "\n",
    "Date: 20180330"
   ]
  },
  {
   "cell_type": "code",
   "execution_count": 1,
   "metadata": {},
   "outputs": [],
   "source": [
    "#Import Needed Packages\n",
    "import geopandas as gpd\n",
    "import urllib.request as ur\n",
    "import subprocess\n",
    "import geojson\n",
    "from sfr_load_utils import *"
   ]
  },
  {
   "cell_type": "markdown",
   "metadata": {},
   "source": [
    "#### Step 1: Retrieve data from source"
   ]
  },
  {
   "cell_type": "code",
   "execution_count": null,
   "metadata": {
    "scrolled": true
   },
   "outputs": [],
   "source": [
    "### Step 1: Retrieve Dataset from ScienceBase\n",
    "#States Dataset stored at https://www.sciencebase.gov/catalog/item/58259697e4b01fad86db263f\n",
    "\n",
    "#Define url of zipped shapefile download\n",
    "downloadUrl ='https://prd-tnm.s3.amazonaws.com/StagedProducts/GovtUnit/GDB/National_GovernmentUnits.zip'\n",
    "#Download government unit file to local directory\n",
    "ur.urlretrieve(downloadUrl, 'National_GovernmentUnits.zip')\n",
    "#In working directory unzips file\n",
    "subprocess.call(r'\"C:\\Program Files\\7-Zip\\7z.exe\" x ' + 'National_GovernmentUnits.zip' )"
   ]
  },
  {
   "cell_type": "markdown",
   "metadata": {},
   "source": [
    "#### Step 2: Import shapefile into GeoDataFrame and identify native crs"
   ]
  },
  {
   "cell_type": "code",
   "execution_count": 2,
   "metadata": {
    "collapsed": true
   },
   "outputs": [],
   "source": [
    "#Create GeoDataFrame from geodatabase\n",
    "df = gpd.read_file('gu/GU.gdb', layer='GU_StateOrTerritory')"
   ]
  },
  {
   "cell_type": "code",
   "execution_count": 3,
   "metadata": {},
   "outputs": [
    {
     "data": {
      "text/plain": [
       "{'init': 'epsg:4269'}"
      ]
     },
     "execution_count": 3,
     "metadata": {},
     "output_type": "execute_result"
    }
   ],
   "source": [
    "#Eventually will need a coded method to extract the epsg number (used as variable later), might be tricky given how this is returned\n",
    "df.crs"
   ]
  },
  {
   "cell_type": "code",
   "execution_count": 4,
   "metadata": {},
   "outputs": [
    {
     "data": {
      "text/html": [
       "<div>\n",
       "<style scoped>\n",
       "    .dataframe tbody tr th:only-of-type {\n",
       "        vertical-align: middle;\n",
       "    }\n",
       "\n",
       "    .dataframe tbody tr th {\n",
       "        vertical-align: top;\n",
       "    }\n",
       "\n",
       "    .dataframe thead th {\n",
       "        text-align: right;\n",
       "    }\n",
       "</style>\n",
       "<table border=\"1\" class=\"dataframe\">\n",
       "  <thead>\n",
       "    <tr style=\"text-align: right;\">\n",
       "      <th></th>\n",
       "      <th>AREASQKM</th>\n",
       "      <th>DATA_SECURITY</th>\n",
       "      <th>DISTRIBUTION_POLICY</th>\n",
       "      <th>FCODE</th>\n",
       "      <th>GLOBALID</th>\n",
       "      <th>GNIS_ID</th>\n",
       "      <th>GNIS_NAME</th>\n",
       "      <th>LOADDATE</th>\n",
       "      <th>PERMANENT_IDENTIFIER</th>\n",
       "      <th>POPULATION</th>\n",
       "      <th>SHAPE_Area</th>\n",
       "      <th>SHAPE_Length</th>\n",
       "      <th>SOURCE_DATADESC</th>\n",
       "      <th>SOURCE_DATASETID</th>\n",
       "      <th>SOURCE_FEATUREID</th>\n",
       "      <th>SOURCE_ORIGINATOR</th>\n",
       "      <th>STATE_FIPSCODE</th>\n",
       "      <th>STATE_NAME</th>\n",
       "      <th>geometry</th>\n",
       "    </tr>\n",
       "  </thead>\n",
       "  <tbody>\n",
       "    <tr>\n",
       "      <th>0</th>\n",
       "      <td>62755.505210</td>\n",
       "      <td>5</td>\n",
       "      <td>E4</td>\n",
       "      <td>61100</td>\n",
       "      <td>{77DBC4B4-2548-4034-9018-2365E87D4B35}</td>\n",
       "      <td>1779805</td>\n",
       "      <td>State of West Virginia</td>\n",
       "      <td>2016-10-05T00:00:00</td>\n",
       "      <td>94dc5bf9-9061-4c53-b8cb-8d00fc458c77</td>\n",
       "      <td>1852994</td>\n",
       "      <td>6.493870</td>\n",
       "      <td>20.741888</td>\n",
       "      <td>2016 TIGER/Line Shapefile, Current State and E...</td>\n",
       "      <td>b832675b-9050-4e36-bb8f-8439ba729501</td>\n",
       "      <td>54</td>\n",
       "      <td>U.S. Census Bureau</td>\n",
       "      <td>54</td>\n",
       "      <td>West Virginia</td>\n",
       "      <td>(POLYGON ((-81.74725400021896 39.0953789997328...</td>\n",
       "    </tr>\n",
       "    <tr>\n",
       "      <th>1</th>\n",
       "      <td>170310.259667</td>\n",
       "      <td>5</td>\n",
       "      <td>E4</td>\n",
       "      <td>61100</td>\n",
       "      <td>{75AD4740-6CB2-47A5-B692-4B3797FC1693}</td>\n",
       "      <td>294478</td>\n",
       "      <td>State of Florida</td>\n",
       "      <td>2016-10-05T00:00:00</td>\n",
       "      <td>387d6a6e-f7ba-4ec2-9940-316a03c8a5e2</td>\n",
       "      <td>18801310</td>\n",
       "      <td>15.700129</td>\n",
       "      <td>31.672645</td>\n",
       "      <td>2016 TIGER/Line Shapefile, Current State and E...</td>\n",
       "      <td>b832675b-9050-4e36-bb8f-8439ba729501</td>\n",
       "      <td>12</td>\n",
       "      <td>U.S. Census Bureau</td>\n",
       "      <td>12</td>\n",
       "      <td>Florida</td>\n",
       "      <td>(POLYGON ((-86.38864600030621 30.9941809998075...</td>\n",
       "    </tr>\n",
       "    <tr>\n",
       "      <th>2</th>\n",
       "      <td>149995.384423</td>\n",
       "      <td>5</td>\n",
       "      <td>E4</td>\n",
       "      <td>61100</td>\n",
       "      <td>{9BE689BA-78E3-4C9C-A3C5-DFAB670AEA52}</td>\n",
       "      <td>1779784</td>\n",
       "      <td>State of Illinois</td>\n",
       "      <td>2016-10-05T00:00:00</td>\n",
       "      <td>5521002d-ae9a-4a26-a38a-a08210488246</td>\n",
       "      <td>12830632</td>\n",
       "      <td>15.852607</td>\n",
       "      <td>22.531785</td>\n",
       "      <td>2016 TIGER/Line Shapefile, Current State and E...</td>\n",
       "      <td>b832675b-9050-4e36-bb8f-8439ba729501</td>\n",
       "      <td>17</td>\n",
       "      <td>U.S. Census Bureau</td>\n",
       "      <td>17</td>\n",
       "      <td>Illinois</td>\n",
       "      <td>(POLYGON ((-91.18529500015256 40.6378030004636...</td>\n",
       "    </tr>\n",
       "    <tr>\n",
       "      <th>3</th>\n",
       "      <td>169634.992660</td>\n",
       "      <td>5</td>\n",
       "      <td>E4</td>\n",
       "      <td>61100</td>\n",
       "      <td>{50373FFB-392D-45FA-AC81-AC29E5C9606E}</td>\n",
       "      <td>1779806</td>\n",
       "      <td>State of Wisconsin</td>\n",
       "      <td>2016-10-05T00:00:00</td>\n",
       "      <td>9e88b3f5-0d44-4f3c-bf25-58ea502b8fe5</td>\n",
       "      <td>5686986</td>\n",
       "      <td>19.244609</td>\n",
       "      <td>23.449681</td>\n",
       "      <td>2016 TIGER/Line Shapefile, Current State and E...</td>\n",
       "      <td>b832675b-9050-4e36-bb8f-8439ba729501</td>\n",
       "      <td>55</td>\n",
       "      <td>U.S. Census Bureau</td>\n",
       "      <td>55</td>\n",
       "      <td>Wisconsin</td>\n",
       "      <td>(POLYGON ((-92.88706699959437 45.6441479999844...</td>\n",
       "    </tr>\n",
       "    <tr>\n",
       "      <th>4</th>\n",
       "      <td>254799.399450</td>\n",
       "      <td>5</td>\n",
       "      <td>E4</td>\n",
       "      <td>61100</td>\n",
       "      <td>{64108400-253F-4675-B712-6D06E95F3FB2}</td>\n",
       "      <td>1155107</td>\n",
       "      <td>State of Oregon</td>\n",
       "      <td>2016-10-05T00:00:00</td>\n",
       "      <td>29296cc8-8b7b-4970-9cf8-e6bbc2eec3de</td>\n",
       "      <td>3831074</td>\n",
       "      <td>28.568477</td>\n",
       "      <td>25.977417</td>\n",
       "      <td>2016 TIGER/Line Shapefile, Current State and E...</td>\n",
       "      <td>b832675b-9050-4e36-bb8f-8439ba729501</td>\n",
       "      <td>41</td>\n",
       "      <td>U.S. Census Bureau</td>\n",
       "      <td>41</td>\n",
       "      <td>Oregon</td>\n",
       "      <td>(POLYGON ((-124.0654480001576 45.7830539997688...</td>\n",
       "    </tr>\n",
       "  </tbody>\n",
       "</table>\n",
       "</div>"
      ],
      "text/plain": [
       "        AREASQKM  DATA_SECURITY DISTRIBUTION_POLICY  FCODE  \\\n",
       "0   62755.505210              5                  E4  61100   \n",
       "1  170310.259667              5                  E4  61100   \n",
       "2  149995.384423              5                  E4  61100   \n",
       "3  169634.992660              5                  E4  61100   \n",
       "4  254799.399450              5                  E4  61100   \n",
       "\n",
       "                                 GLOBALID  GNIS_ID               GNIS_NAME  \\\n",
       "0  {77DBC4B4-2548-4034-9018-2365E87D4B35}  1779805  State of West Virginia   \n",
       "1  {75AD4740-6CB2-47A5-B692-4B3797FC1693}   294478        State of Florida   \n",
       "2  {9BE689BA-78E3-4C9C-A3C5-DFAB670AEA52}  1779784       State of Illinois   \n",
       "3  {50373FFB-392D-45FA-AC81-AC29E5C9606E}  1779806      State of Wisconsin   \n",
       "4  {64108400-253F-4675-B712-6D06E95F3FB2}  1155107         State of Oregon   \n",
       "\n",
       "              LOADDATE                  PERMANENT_IDENTIFIER  POPULATION  \\\n",
       "0  2016-10-05T00:00:00  94dc5bf9-9061-4c53-b8cb-8d00fc458c77     1852994   \n",
       "1  2016-10-05T00:00:00  387d6a6e-f7ba-4ec2-9940-316a03c8a5e2    18801310   \n",
       "2  2016-10-05T00:00:00  5521002d-ae9a-4a26-a38a-a08210488246    12830632   \n",
       "3  2016-10-05T00:00:00  9e88b3f5-0d44-4f3c-bf25-58ea502b8fe5     5686986   \n",
       "4  2016-10-05T00:00:00  29296cc8-8b7b-4970-9cf8-e6bbc2eec3de     3831074   \n",
       "\n",
       "   SHAPE_Area  SHAPE_Length  \\\n",
       "0    6.493870     20.741888   \n",
       "1   15.700129     31.672645   \n",
       "2   15.852607     22.531785   \n",
       "3   19.244609     23.449681   \n",
       "4   28.568477     25.977417   \n",
       "\n",
       "                                     SOURCE_DATADESC  \\\n",
       "0  2016 TIGER/Line Shapefile, Current State and E...   \n",
       "1  2016 TIGER/Line Shapefile, Current State and E...   \n",
       "2  2016 TIGER/Line Shapefile, Current State and E...   \n",
       "3  2016 TIGER/Line Shapefile, Current State and E...   \n",
       "4  2016 TIGER/Line Shapefile, Current State and E...   \n",
       "\n",
       "                       SOURCE_DATASETID SOURCE_FEATUREID   SOURCE_ORIGINATOR  \\\n",
       "0  b832675b-9050-4e36-bb8f-8439ba729501               54  U.S. Census Bureau   \n",
       "1  b832675b-9050-4e36-bb8f-8439ba729501               12  U.S. Census Bureau   \n",
       "2  b832675b-9050-4e36-bb8f-8439ba729501               17  U.S. Census Bureau   \n",
       "3  b832675b-9050-4e36-bb8f-8439ba729501               55  U.S. Census Bureau   \n",
       "4  b832675b-9050-4e36-bb8f-8439ba729501               41  U.S. Census Bureau   \n",
       "\n",
       "  STATE_FIPSCODE     STATE_NAME  \\\n",
       "0             54  West Virginia   \n",
       "1             12        Florida   \n",
       "2             17       Illinois   \n",
       "3             55      Wisconsin   \n",
       "4             41         Oregon   \n",
       "\n",
       "                                            geometry  \n",
       "0  (POLYGON ((-81.74725400021896 39.0953789997328...  \n",
       "1  (POLYGON ((-86.38864600030621 30.9941809998075...  \n",
       "2  (POLYGON ((-91.18529500015256 40.6378030004636...  \n",
       "3  (POLYGON ((-92.88706699959437 45.6441479999844...  \n",
       "4  (POLYGON ((-124.0654480001576 45.7830539997688...  "
      ]
     },
     "execution_count": 4,
     "metadata": {},
     "output_type": "execute_result"
    }
   ],
   "source": [
    "df.head()"
   ]
  },
  {
   "cell_type": "markdown",
   "metadata": {},
   "source": [
    "#### Step 3: Define Variables"
   ]
  },
  {
   "cell_type": "code",
   "execution_count": 5,
   "metadata": {
    "collapsed": true
   },
   "outputs": [],
   "source": [
    "#User Defined Variables\n",
    "epsg = {'code':'4269'}\n",
    "expected_geom_type = 'MultiPolygon'\n",
    "outfile_name = 'state_boundaries'\n",
    "source_sbitem = '58259697e4b01fad86db263f'\n",
    "list_tags = ['Jurisdictional Units','BIS Spatial Feature Registry','United States']\n",
    "date = '2018-04-02'\n",
    "data_name = 'U.S. State Boundaries'\n"
   ]
  },
  {
   "cell_type": "markdown",
   "metadata": {},
   "source": [
    "#### Step 4: Create SB Item to describe SFR Registration "
   ]
  },
  {
   "cell_type": "code",
   "execution_count": 6,
   "metadata": {},
   "outputs": [
    {
     "name": "stdout",
     "output_type": "stream",
     "text": [
      "username: dwieferich@usgs.gov\n",
      "········\n",
      "{'title': 'Spatial Feature Registration Files for U.S. State Boundaries', 'parentId': '55fafaf5e4b05d6c4e501b81', 'summary': 'U.S. State Boundaries data registered into the spatial feature registry. Source data is documented at https://www.sciencebase.gov/catalog/item/58259697e4b01fad86db263f', 'tags': [{'type': 'Subject', 'name': 'Jurisdictional Units'}, {'type': 'Subject', 'name': 'BIS Spatial Feature Registry'}, {'type': 'Subject', 'name': 'United States'}], 'dates': [{'type': 'creation', 'dateString': '2018-04-02', 'label': 'Creation'}], 'purpose': 'These spatial data were ingested into the Spatial Feature Registry (SFR) data system within the Biological Information System.', 'webLinks': [{'type': 'webLink', 'typeLabel': 'Web Link', 'uri': 'https://www.sciencebase.gov/catalog/item/58259697e4b01fad86db263f', 'rel': 'related', 'title': 'source data documentation'}]}\n"
     ]
    }
   ],
   "source": [
    "#Build SB Item to house SFR GeoJSON File, including description of item.  \n",
    "#This step outputs source_uri (uri to the new sb item that describes the data) to be included as registration information.\n",
    "\n",
    "#Turns list of tags into json format accepted by SB\n",
    "sb_tags = build_sb_tags(list_tags)\n",
    "#Create SB session and log in\n",
    "sb = sb_login()   \n",
    "#Creates JSON needed to build and describe new SB item\n",
    "item_info = sfr_item_info_from_incomplete_sb_item(sb,source_sbitem, sb_tags, date, data_name)\n",
    "print (item_info)\n",
    "#Builds new SB item\n",
    "new_item = build_new_sfr_sbitem(sb,item_info)\n",
    "#URI of new SB item.  This is inserted into GEOJSON so we have a direct connection in SFR to documentation... this step may not\n",
    "#be needed as we build prov capabilities.\n"
   ]
  },
  {
   "cell_type": "code",
   "execution_count": 7,
   "metadata": {},
   "outputs": [
    {
     "name": "stdout",
     "output_type": "stream",
     "text": [
      "https://www.sciencebase.gov/catalog/item/5ac25756e4b0e2c2dd0aa0f9\n"
     ]
    }
   ],
   "source": [
    "source_uri = str(new_item['link']['url'])\n",
    "print (source_uri)"
   ]
  },
  {
   "cell_type": "markdown",
   "metadata": {},
   "source": [
    "#### Step 5: Build and export GeoJSON representation of data.  Add registration id and source_uri (newly created SB item). Verify that the correct number of features were included in the GeoJSON dataset."
   ]
  },
  {
   "cell_type": "code",
   "execution_count": 8,
   "metadata": {},
   "outputs": [
    {
     "name": "stdout",
     "output_type": "stream",
     "text": [
      "Correct number of features\n"
     ]
    }
   ],
   "source": [
    "collection = df_to_geojson(df, epsg, source_uri, expected_geom_type)\n",
    "print (verify_correct_count(collection, df))\n",
    "\n",
    "#export_geojson(outfile_name, collection)\n",
    "#Add file to SB Item"
   ]
  },
  {
   "cell_type": "code",
   "execution_count": 9,
   "metadata": {
    "collapsed": true
   },
   "outputs": [],
   "source": [
    "file = export_geojson(outfile_name, collection)\n",
    "outfile_zip = zip_geojson(outfile_name)"
   ]
  },
  {
   "cell_type": "markdown",
   "metadata": {},
   "source": [
    "#### Step 6: Upload GeoJSON file to ScienceBase Item and also upload to GC2 using UI (make sure to specify UTF-8 encoding and MultiPolygon)."
   ]
  },
  {
   "cell_type": "code",
   "execution_count": 10,
   "metadata": {},
   "outputs": [
    {
     "data": {
      "text/plain": [
       "{'dates': [{'dateString': '2018-04-02',\n",
       "   'label': 'Creation',\n",
       "   'type': 'creation'}],\n",
       " 'distributionLinks': [{'files': [{'contentType': 'application/zip',\n",
       "     'name': 'state_boundaries.zip',\n",
       "     'size': 11537430,\n",
       "     'title': None}],\n",
       "   'name': 'SpatialFeatureR.zip',\n",
       "   'rel': 'alternate',\n",
       "   'title': 'Download Attached Files',\n",
       "   'type': 'downloadLink',\n",
       "   'typeLabel': 'Download Link',\n",
       "   'uri': 'https://www.sciencebase.gov/catalog/file/get/5ac25756e4b0e2c2dd0aa0f9'}],\n",
       " 'files': [{'checksum': None,\n",
       "   'contentEncoding': None,\n",
       "   'contentType': 'application/zip',\n",
       "   'dateUploaded': '2018-04-02T16:16:50Z',\n",
       "   'downloadUri': 'https://www.sciencebase.gov/catalog/file/get/5ac25756e4b0e2c2dd0aa0f9?f=__disk__53%2Fdf%2F03%2F53df03d4cc0abfe474ce2035b4457e2b7e9e05cd',\n",
       "   'imageHeight': None,\n",
       "   'imageWidth': None,\n",
       "   'name': 'state_boundaries.zip',\n",
       "   'originalMetadata': None,\n",
       "   'pathOnDisk': '__disk__53/df/03/53df03d4cc0abfe474ce2035b4457e2b7e9e05cd',\n",
       "   'processToken': None,\n",
       "   'processed': None,\n",
       "   's3Object': None,\n",
       "   'size': 11537430,\n",
       "   'title': None,\n",
       "   'uploadedBy': 'dwieferich@usgs.gov',\n",
       "   'url': 'https://www.sciencebase.gov/catalog/file/get/5ac25756e4b0e2c2dd0aa0f9?f=__disk__53%2Fdf%2F03%2F53df03d4cc0abfe474ce2035b4457e2b7e9e05cd',\n",
       "   'useForPreview': None}],\n",
       " 'hasChildren': False,\n",
       " 'id': '5ac25756e4b0e2c2dd0aa0f9',\n",
       " 'link': {'rel': 'self',\n",
       "  'url': 'https://www.sciencebase.gov/catalog/item/5ac25756e4b0e2c2dd0aa0f9'},\n",
       " 'locked': False,\n",
       " 'parentId': '55fafaf5e4b05d6c4e501b81',\n",
       " 'permissions': {'read': {'acl': ['PUBLIC'],\n",
       "   'inherited': True,\n",
       "   'inheritsFromId': '4f4e4760e4b07f02db47df9b'},\n",
       "  'write': {'acl': None,\n",
       "   'inherited': True,\n",
       "   'inheritsFromId': '4f4e4760e4b07f02db47df9b'}},\n",
       " 'provenance': {'createdBy': 'dwieferich@usgs.gov',\n",
       "  'dateCreated': '2018-04-02T16:16:22Z',\n",
       "  'lastUpdated': '2018-04-02T16:16:50Z',\n",
       "  'lastUpdatedBy': 'dwieferich@usgs.gov'},\n",
       " 'purpose': 'These spatial data were ingested into the Spatial Feature Registry (SFR) data system within the Biological Information System.',\n",
       " 'relatedItems': {'link': {'rel': 'related',\n",
       "   'url': 'https://www.sciencebase.gov/catalog/itemLinks?itemId=5ac25756e4b0e2c2dd0aa0f9'}},\n",
       " 'tags': [{'name': 'Jurisdictional Units', 'type': 'Subject'},\n",
       "  {'name': 'BIS Spatial Feature Registry', 'type': 'Subject'},\n",
       "  {'name': 'United States', 'type': 'Subject'}],\n",
       " 'title': 'Spatial Feature Registration Files for U.S. State Boundaries',\n",
       " 'webLinks': [{'hidden': False,\n",
       "   'rel': 'related',\n",
       "   'title': 'source data documentation',\n",
       "   'type': 'webLink',\n",
       "   'typeLabel': 'Web Link',\n",
       "   'uri': 'https://www.sciencebase.gov/catalog/item/58259697e4b01fad86db263f'}]}"
      ]
     },
     "execution_count": 10,
     "metadata": {},
     "output_type": "execute_result"
    }
   ],
   "source": [
    "sb.upload_file_to_item(new_item, outfile_zip)"
   ]
  },
  {
   "cell_type": "code",
   "execution_count": null,
   "metadata": {
    "collapsed": true
   },
   "outputs": [],
   "source": []
  },
  {
   "cell_type": "code",
   "execution_count": null,
   "metadata": {
    "collapsed": true
   },
   "outputs": [],
   "source": [
    "#Currently the new SB item needs to have some additional information uploaded.  The UI can be used for this for now but in the future we will want to build as much as we can into this process."
   ]
  }
 ],
 "metadata": {
  "kernelspec": {
   "display_name": "Python 3",
   "language": "python",
   "name": "python3"
  },
  "language_info": {
   "codemirror_mode": {
    "name": "ipython",
    "version": 3
   },
   "file_extension": ".py",
   "mimetype": "text/x-python",
   "name": "python",
   "nbconvert_exporter": "python",
   "pygments_lexer": "ipython3",
   "version": "3.6.1"
  }
 },
 "nbformat": 4,
 "nbformat_minor": 2
}
