{
 "cells": [
  {
   "cell_type": "markdown",
   "metadata": {},
   "source": [
    "# Canadian Provinces and Territories into the Spatial Feature Registry\n",
    "\n",
    "#### This code is in progress.  The code registers the Canadian Provinces and Territories into the Spatial Feature Registry (SFR within Data Distilleries GC2 instance) using the following workflow.  All data are retained from the source (unaltered), three registration fields are added (_id, reg_date, reg_source) and data are exported to a GeoJSON file.   The GeoJSON file is then uploaded to ScienceBase to document the final data as it is represented in the SFR.  Currently we are uploading data to the SFR using a manual process, with plans to automate this step in the future. \n",
    "\n",
    "#### General workflow involves:\n",
    "     1: Retrieve Data From Source (ScienceBase Item: https://www.sciencebase.gov/catalog/item/5ab555c6e4b081f61ab78093)\n",
    "     2: Create GeoDataFrame and identify native crs\n",
    "     3: Define Variables needed throughout process\n",
    "     4: Create new ScienceBase item to describe registration process\n",
    "     5: Build and export GeoJSON representation of the data.  This process includes the addition of two registration fields that document information about registration (reg_source-> points to new SB item), and a registered uuid (_id).  \n",
    "     6: Upload GeoJSON file to new ScienceBase item to document what was registered into SFR, along with additional information about when and how registration occured.  This process will likely change as we introduce a more systematic way of tracking prov.   During this step the user will upload data to GC2 as well (SFR schema).  Currently this process is done manually through the UI.\n",
    "     "
   ]
  },
  {
   "cell_type": "markdown",
   "metadata": {
    "collapsed": true
   },
   "source": [
    "#### Code by: Daniel Wieferich (USGS)\n",
    "\n",
    "Date: 20180402"
   ]
  },
  {
   "cell_type": "code",
   "execution_count": 1,
   "metadata": {
    "collapsed": true
   },
   "outputs": [],
   "source": [
    "#Import Needed Packages\n",
    "import geopandas as gpd\n",
    "import urllib.request as ur\n",
    "import subprocess\n",
    "import geojson\n",
    "from sfr_load_utils import *"
   ]
  },
  {
   "cell_type": "markdown",
   "metadata": {},
   "source": [
    "#### Step 1: Retrieve data from source"
   ]
  },
  {
   "cell_type": "code",
   "execution_count": 2,
   "metadata": {},
   "outputs": [],
   "source": [
    "# Step 1: Retrieve Dataset from ScienceBase: https://www.sciencebase.gov/catalog/item/56bba648e4b08d617f657960, file = PADUS1_4Shapefile.zip\n",
    "# STEP 1:  For PADUS1_4 the shapefile triggers a SB large file download, creating a temporary download link.  \n",
    "# At this time we can't access the file programatically.  Download the file to the working directory using the \n",
    "# url: After download a field was added called FeatureID and values from fid were copied to this field.  \n",
    "# This step was included because geopandas doesn't import fid."
   ]
  },
  {
   "cell_type": "markdown",
   "metadata": {},
   "source": [
    "#### Step 2: Import shapefile into GeoDataFrame and identify native crs"
   ]
  },
  {
   "cell_type": "code",
   "execution_count": 3,
   "metadata": {
    "collapsed": true
   },
   "outputs": [],
   "source": [
    "#note the file name has one more '0' than the zip folder\n",
    "file = 'PADUS1_4Shapefile/PADUS1_4Combined.shp'\n",
    "#Create GeoDataFrame from downloaded shapefile\n",
    "df = gpd.read_file(file)"
   ]
  },
  {
   "cell_type": "code",
   "execution_count": 4,
   "metadata": {},
   "outputs": [
    {
     "data": {
      "text/plain": [
       "{'datum': 'NAD83',\n",
       " 'lat_0': 23,\n",
       " 'lat_1': 29.5,\n",
       " 'lat_2': 45.5,\n",
       " 'lon_0': -96,\n",
       " 'no_defs': True,\n",
       " 'proj': 'aea',\n",
       " 'units': 'm',\n",
       " 'x_0': 0,\n",
       " 'y_0': 0}"
      ]
     },
     "execution_count": 4,
     "metadata": {},
     "output_type": "execute_result"
    }
   ],
   "source": [
    "#Eventually will need a coded method to extract the epsg number (used as variable later), might be tricky given how this is returned\n",
    "df.crs"
   ]
  },
  {
   "cell_type": "code",
   "execution_count": 6,
   "metadata": {
    "collapsed": true
   },
   "outputs": [],
   "source": [
    "#Transform coordinate system to web mercator\n",
    "#This dataset is already albers equal area, but was set manually instead of using epsg.  This transform will define the epsg, but should not alter the geospatial data.\n",
    "df = df.to_crs({'init': 'epsg:5070'}) "
   ]
  },
  {
   "cell_type": "code",
   "execution_count": 7,
   "metadata": {},
   "outputs": [
    {
     "data": {
      "text/html": [
       "<div>\n",
       "<style scoped>\n",
       "    .dataframe tbody tr th:only-of-type {\n",
       "        vertical-align: middle;\n",
       "    }\n",
       "\n",
       "    .dataframe tbody tr th {\n",
       "        vertical-align: top;\n",
       "    }\n",
       "\n",
       "    .dataframe thead th {\n",
       "        text-align: right;\n",
       "    }\n",
       "</style>\n",
       "<table border=\"1\" class=\"dataframe\">\n",
       "  <thead>\n",
       "    <tr style=\"text-align: right;\">\n",
       "      <th></th>\n",
       "      <th>Access</th>\n",
       "      <th>Access_Src</th>\n",
       "      <th>Agg_Src</th>\n",
       "      <th>Category</th>\n",
       "      <th>Comments</th>\n",
       "      <th>Date_Est</th>\n",
       "      <th>Des_Tp</th>\n",
       "      <th>FeatureID</th>\n",
       "      <th>GAPCdDt</th>\n",
       "      <th>GAPCdSrc</th>\n",
       "      <th>...</th>\n",
       "      <th>d_Category</th>\n",
       "      <th>d_Des_Tp</th>\n",
       "      <th>d_GAP_Sts</th>\n",
       "      <th>d_IUCN_Cat</th>\n",
       "      <th>d_Mang_Nam</th>\n",
       "      <th>d_Mang_Typ</th>\n",
       "      <th>d_Own_Name</th>\n",
       "      <th>d_Own_Type</th>\n",
       "      <th>d_State_Nm</th>\n",
       "      <th>geometry</th>\n",
       "    </tr>\n",
       "  </thead>\n",
       "  <tbody>\n",
       "    <tr>\n",
       "      <th>0</th>\n",
       "      <td>UK</td>\n",
       "      <td>GAP - Default</td>\n",
       "      <td>NOAA_PADUS1_4MPA_MPAIMember_Eligble2016</td>\n",
       "      <td>Designation</td>\n",
       "      <td></td>\n",
       "      <td>1990</td>\n",
       "      <td>MPA</td>\n",
       "      <td>0</td>\n",
       "      <td>2016</td>\n",
       "      <td>GAP - NOAA</td>\n",
       "      <td>...</td>\n",
       "      <td>Designation</td>\n",
       "      <td>Marine Protected Area</td>\n",
       "      <td>3 - managed for multiple uses - subject to ext...</td>\n",
       "      <td>Other Conservation Area</td>\n",
       "      <td>U.S. Fish &amp; Wildlife Service</td>\n",
       "      <td>Federal</td>\n",
       "      <td>U.S. Fish &amp; Wildlife Service</td>\n",
       "      <td>Federal</td>\n",
       "      <td>South Carolina</td>\n",
       "      <td>(POLYGON ((1424277.798300002 1184612.6506, 142...</td>\n",
       "    </tr>\n",
       "    <tr>\n",
       "      <th>1</th>\n",
       "      <td>UK</td>\n",
       "      <td>GAP - Default</td>\n",
       "      <td>NOAA_PADUS1_4MPA_MPAIMember_Eligble2016</td>\n",
       "      <td>Designation</td>\n",
       "      <td></td>\n",
       "      <td>1980</td>\n",
       "      <td>MPA</td>\n",
       "      <td>1</td>\n",
       "      <td>2016</td>\n",
       "      <td>GAP - NOAA</td>\n",
       "      <td>...</td>\n",
       "      <td>Designation</td>\n",
       "      <td>Marine Protected Area</td>\n",
       "      <td>2 - managed for biodiversity - disturbance eve...</td>\n",
       "      <td>IV: Habitat / species management</td>\n",
       "      <td>U.S. Fish &amp; Wildlife Service</td>\n",
       "      <td>Federal</td>\n",
       "      <td>U.S. Fish &amp; Wildlife Service</td>\n",
       "      <td>Federal</td>\n",
       "      <td>Not Applicable</td>\n",
       "      <td>(POLYGON ((-3799758.5226 4890818.809499999, -3...</td>\n",
       "    </tr>\n",
       "    <tr>\n",
       "      <th>2</th>\n",
       "      <td>UK</td>\n",
       "      <td>GAP - Default</td>\n",
       "      <td>NOAA_PADUS1_4MPA_MPAIMember_Eligble2016</td>\n",
       "      <td>Designation</td>\n",
       "      <td></td>\n",
       "      <td>1980</td>\n",
       "      <td>MPA</td>\n",
       "      <td>2</td>\n",
       "      <td>2016</td>\n",
       "      <td>GAP - NOAA</td>\n",
       "      <td>...</td>\n",
       "      <td>Designation</td>\n",
       "      <td>Marine Protected Area</td>\n",
       "      <td>2 - managed for biodiversity - disturbance eve...</td>\n",
       "      <td>IV: Habitat / species management</td>\n",
       "      <td>U.S. Fish &amp; Wildlife Service</td>\n",
       "      <td>Federal</td>\n",
       "      <td>U.S. Fish &amp; Wildlife Service</td>\n",
       "      <td>Federal</td>\n",
       "      <td>Alaska</td>\n",
       "      <td>(POLYGON ((-2468323.288700001 4003732.81449999...</td>\n",
       "    </tr>\n",
       "    <tr>\n",
       "      <th>3</th>\n",
       "      <td>UK</td>\n",
       "      <td>GAP - Default</td>\n",
       "      <td>NOAA_PADUS1_4MPA_MPAIMember_Eligble2016</td>\n",
       "      <td>Designation</td>\n",
       "      <td></td>\n",
       "      <td>1984</td>\n",
       "      <td>MPA</td>\n",
       "      <td>3</td>\n",
       "      <td>2016</td>\n",
       "      <td>GAP - NOAA</td>\n",
       "      <td>...</td>\n",
       "      <td>Designation</td>\n",
       "      <td>Marine Protected Area</td>\n",
       "      <td>2 - managed for biodiversity - disturbance eve...</td>\n",
       "      <td>IV: Habitat / species management</td>\n",
       "      <td>U.S. Fish &amp; Wildlife Service</td>\n",
       "      <td>Federal</td>\n",
       "      <td>U.S. Fish &amp; Wildlife Service</td>\n",
       "      <td>Federal</td>\n",
       "      <td>North Carolina</td>\n",
       "      <td>(POLYGON ((1768150.140400001 1590880.056099996...</td>\n",
       "    </tr>\n",
       "    <tr>\n",
       "      <th>4</th>\n",
       "      <td>UK</td>\n",
       "      <td>GAP - Default</td>\n",
       "      <td>NOAA_PADUS1_4MPA_MPAIMember_Eligble2016</td>\n",
       "      <td>Designation</td>\n",
       "      <td></td>\n",
       "      <td>1963</td>\n",
       "      <td>MPA</td>\n",
       "      <td>4</td>\n",
       "      <td>2016</td>\n",
       "      <td>GAP - NOAA</td>\n",
       "      <td>...</td>\n",
       "      <td>Designation</td>\n",
       "      <td>Marine Protected Area</td>\n",
       "      <td>2 - managed for biodiversity - disturbance eve...</td>\n",
       "      <td>IV: Habitat / species management</td>\n",
       "      <td>U.S. Fish &amp; Wildlife Service</td>\n",
       "      <td>Federal</td>\n",
       "      <td>U.S. Fish &amp; Wildlife Service</td>\n",
       "      <td>Federal</td>\n",
       "      <td>Texas</td>\n",
       "      <td>(POLYGON ((139868.2466999998 744803.6877999974...</td>\n",
       "    </tr>\n",
       "  </tbody>\n",
       "</table>\n",
       "<p>5 rows × 40 columns</p>\n",
       "</div>"
      ],
      "text/plain": [
       "  Access     Access_Src                                  Agg_Src     Category  \\\n",
       "0     UK  GAP - Default  NOAA_PADUS1_4MPA_MPAIMember_Eligble2016  Designation   \n",
       "1     UK  GAP - Default  NOAA_PADUS1_4MPA_MPAIMember_Eligble2016  Designation   \n",
       "2     UK  GAP - Default  NOAA_PADUS1_4MPA_MPAIMember_Eligble2016  Designation   \n",
       "3     UK  GAP - Default  NOAA_PADUS1_4MPA_MPAIMember_Eligble2016  Designation   \n",
       "4     UK  GAP - Default  NOAA_PADUS1_4MPA_MPAIMember_Eligble2016  Designation   \n",
       "\n",
       "  Comments Date_Est Des_Tp  FeatureID GAPCdDt    GAPCdSrc  \\\n",
       "0              1990    MPA          0    2016  GAP - NOAA   \n",
       "1              1980    MPA          1    2016  GAP - NOAA   \n",
       "2              1980    MPA          2    2016  GAP - NOAA   \n",
       "3              1984    MPA          3    2016  GAP - NOAA   \n",
       "4              1963    MPA          4    2016  GAP - NOAA   \n",
       "\n",
       "                         ...                           d_Category  \\\n",
       "0                        ...                          Designation   \n",
       "1                        ...                          Designation   \n",
       "2                        ...                          Designation   \n",
       "3                        ...                          Designation   \n",
       "4                        ...                          Designation   \n",
       "\n",
       "                d_Des_Tp                                          d_GAP_Sts  \\\n",
       "0  Marine Protected Area  3 - managed for multiple uses - subject to ext...   \n",
       "1  Marine Protected Area  2 - managed for biodiversity - disturbance eve...   \n",
       "2  Marine Protected Area  2 - managed for biodiversity - disturbance eve...   \n",
       "3  Marine Protected Area  2 - managed for biodiversity - disturbance eve...   \n",
       "4  Marine Protected Area  2 - managed for biodiversity - disturbance eve...   \n",
       "\n",
       "                         d_IUCN_Cat                    d_Mang_Nam d_Mang_Typ  \\\n",
       "0           Other Conservation Area  U.S. Fish & Wildlife Service    Federal   \n",
       "1  IV: Habitat / species management  U.S. Fish & Wildlife Service    Federal   \n",
       "2  IV: Habitat / species management  U.S. Fish & Wildlife Service    Federal   \n",
       "3  IV: Habitat / species management  U.S. Fish & Wildlife Service    Federal   \n",
       "4  IV: Habitat / species management  U.S. Fish & Wildlife Service    Federal   \n",
       "\n",
       "                     d_Own_Name d_Own_Type      d_State_Nm  \\\n",
       "0  U.S. Fish & Wildlife Service    Federal  South Carolina   \n",
       "1  U.S. Fish & Wildlife Service    Federal  Not Applicable   \n",
       "2  U.S. Fish & Wildlife Service    Federal          Alaska   \n",
       "3  U.S. Fish & Wildlife Service    Federal  North Carolina   \n",
       "4  U.S. Fish & Wildlife Service    Federal           Texas   \n",
       "\n",
       "                                            geometry  \n",
       "0  (POLYGON ((1424277.798300002 1184612.6506, 142...  \n",
       "1  (POLYGON ((-3799758.5226 4890818.809499999, -3...  \n",
       "2  (POLYGON ((-2468323.288700001 4003732.81449999...  \n",
       "3  (POLYGON ((1768150.140400001 1590880.056099996...  \n",
       "4  (POLYGON ((139868.2466999998 744803.6877999974...  \n",
       "\n",
       "[5 rows x 40 columns]"
      ]
     },
     "execution_count": 7,
     "metadata": {},
     "output_type": "execute_result"
    }
   ],
   "source": [
    "df.head()"
   ]
  },
  {
   "cell_type": "markdown",
   "metadata": {},
   "source": [
    "#### Step 3: Define Variables"
   ]
  },
  {
   "cell_type": "code",
   "execution_count": 8,
   "metadata": {
    "collapsed": true
   },
   "outputs": [],
   "source": [
    "#User Defined Variables\n",
    "epsg = {'code':'5070'}\n",
    "expected_geom_type = 'MultiPolygon'\n",
    "outfile_name = 'padus1_4'\n",
    "source_sbitem = '56bba648e4b08d617f657960'\n",
    "list_tags = ['Jurisdictional Units','Protected Areas','BIS Spatial Feature Registry','United States']\n",
    "date = '2018-04-02'\n"
   ]
  },
  {
   "cell_type": "markdown",
   "metadata": {},
   "source": [
    "#### Step 4: Create SB Item to describe SFR Registration "
   ]
  },
  {
   "cell_type": "code",
   "execution_count": 9,
   "metadata": {},
   "outputs": [
    {
     "name": "stdout",
     "output_type": "stream",
     "text": [
      "username: dwieferich@usgs.gov\n",
      "········\n",
      "https://www.sciencebase.gov/catalog/item/5ac272d5e4b0e2c2dd0aa3e7\n"
     ]
    }
   ],
   "source": [
    "#Build SB Item to house SFR GeoJSON File, including description of item.  \n",
    "#This step outputs source_uri (uri to the new sb item that describes the data) to be included as registration information.\n",
    "\n",
    "#Turns list of tags into json format accepted by SB\n",
    "sb_tags = build_sb_tags(list_tags)\n",
    "#Create SB session and log in\n",
    "sb = sb_login()   \n",
    "#Creates JSON needed to build and describe new SB item\n",
    "item_info = sfr_item_info(sb,source_sbitem, sb_tags, date)\n",
    "#Builds new SB item\n",
    "new_item = build_new_sfr_sbitem(sb,item_info)\n",
    "#URI of new SB item.  This is inserted into GEOJSON so we have a direct connection in SFR to documentation... this step may not\n",
    "#be needed as we build prov capabilities.\n",
    "source_uri = str(new_item['link']['url'])\n",
    "print (source_uri)"
   ]
  },
  {
   "cell_type": "markdown",
   "metadata": {},
   "source": [
    "#### Step 5: Build and export GeoJSON representation of data.  Add registration id and source_uri (newly created SB item). Verify that the correct number of features were included in the GeoJSON dataset."
   ]
  },
  {
   "cell_type": "code",
   "execution_count": 10,
   "metadata": {},
   "outputs": [
    {
     "name": "stdout",
     "output_type": "stream",
     "text": [
      "Correct number of features\n"
     ]
    }
   ],
   "source": [
    "collection = df_to_geojson(df, epsg, source_uri, expected_geom_type)\n",
    "print (verify_correct_count(collection, df))\n",
    "\n",
    "#export_geojson(outfile_name, collection)\n",
    "#Add file to SB Item"
   ]
  },
  {
   "cell_type": "code",
   "execution_count": 11,
   "metadata": {
    "collapsed": true
   },
   "outputs": [],
   "source": [
    "file = export_geojson(outfile_name, collection)\n",
    "outfile_zip = zip_geojson(outfile_name)"
   ]
  },
  {
   "cell_type": "markdown",
   "metadata": {},
   "source": [
    "#### Step 6: Upload GeoJSON file to ScienceBase Item and also upload to GC2 using UI (make sure to specify UTF-8 encoding and MultiPolygon)."
   ]
  },
  {
   "cell_type": "code",
   "execution_count": 12,
   "metadata": {},
   "outputs": [
    {
     "data": {
      "text/plain": [
       "{'body': 'Protected Areas Database of the United States (PAD-US) data registered into the spatial feature registry.&nbsp; Source data are documented at&nbsp;https://www.sciencebase.gov/catalog/item/56bba648e4b08d617f657960.',\n",
       " 'contacts': [{'active': True,\n",
       "   'contactType': 'person',\n",
       "   'email': 'dwieferich@usgs.gov',\n",
       "   'firstName': 'Daniel',\n",
       "   'jobTitle': 'Physical Scientist',\n",
       "   'lastName': 'Wieferich',\n",
       "   'middleName': 'J',\n",
       "   'name': 'Daniel J Wieferich',\n",
       "   'oldPartyId': 66431,\n",
       "   'orcId': '0000-0003-1554-7992',\n",
       "   'organization': {'displayText': 'Biogeographic Characterization'},\n",
       "   'primaryLocation': {'building': 'DFC Bldg 810',\n",
       "    'buildingCode': 'KBT',\n",
       "    'faxPhone': '3032024710',\n",
       "    'mailAddress': {},\n",
       "    'name': 'CN=Daniel J Wieferich,OU=CSS,OU=Users,OU=OITS,OU=DI,DC=gs,DC=doi,DC=net - Primary Location',\n",
       "    'officePhone': '3032024603',\n",
       "    'streetAddress': {'city': 'Lakewood',\n",
       "     'line1': 'W 6th Ave Kipling St',\n",
       "     'state': 'CO',\n",
       "     'zip': '80225'}},\n",
       "   'type': 'Custodian'}],\n",
       " 'dates': [{'dateString': '2018-04-02',\n",
       "   'label': 'Creation',\n",
       "   'type': 'creation'}],\n",
       " 'distributionLinks': [{'files': [{'contentType': 'application/zip',\n",
       "     'name': 'padus1_4.zip',\n",
       "     'size': 935501532,\n",
       "     'title': None}],\n",
       "   'name': 'SpatialFeatureR.zip',\n",
       "   'rel': 'alternate',\n",
       "   'title': 'Download Attached Files',\n",
       "   'type': 'downloadLink',\n",
       "   'typeLabel': 'Download Link',\n",
       "   'uri': 'https://www.sciencebase.gov/catalog/file/get/5ac272d5e4b0e2c2dd0aa3e7'}],\n",
       " 'files': [{'checksum': None,\n",
       "   'contentEncoding': None,\n",
       "   'contentType': 'application/zip',\n",
       "   'dateUploaded': '2018-04-02T18:39:07Z',\n",
       "   'downloadUri': 'https://www.sciencebase.gov/catalog/file/get/5ac272d5e4b0e2c2dd0aa3e7?f=__disk__32%2F76%2F65%2F3276652648ba0e8aec9a410747a61fef9a4ed0b8',\n",
       "   'imageHeight': None,\n",
       "   'imageWidth': None,\n",
       "   'name': 'padus1_4.zip',\n",
       "   'originalMetadata': None,\n",
       "   'pathOnDisk': '__disk__32/76/65/3276652648ba0e8aec9a410747a61fef9a4ed0b8',\n",
       "   'processToken': None,\n",
       "   'processed': None,\n",
       "   's3Object': None,\n",
       "   'size': 935501532,\n",
       "   'title': None,\n",
       "   'uploadedBy': 'dwieferich@usgs.gov',\n",
       "   'url': 'https://www.sciencebase.gov/catalog/file/get/5ac272d5e4b0e2c2dd0aa3e7?f=__disk__32%2F76%2F65%2F3276652648ba0e8aec9a410747a61fef9a4ed0b8',\n",
       "   'useForPreview': None}],\n",
       " 'hasChildren': False,\n",
       " 'id': '5ac272d5e4b0e2c2dd0aa3e7',\n",
       " 'link': {'rel': 'self',\n",
       "  'url': 'https://www.sciencebase.gov/catalog/item/5ac272d5e4b0e2c2dd0aa3e7'},\n",
       " 'locked': False,\n",
       " 'parentId': '55fafaf5e4b05d6c4e501b81',\n",
       " 'permissions': {'read': {'acl': ['PUBLIC'],\n",
       "   'inherited': True,\n",
       "   'inheritsFromId': '4f4e4760e4b07f02db47df9b'},\n",
       "  'write': {'acl': None,\n",
       "   'inherited': True,\n",
       "   'inheritsFromId': '4f4e4760e4b07f02db47df9b'}},\n",
       " 'provenance': {'createdBy': 'dwieferich@usgs.gov',\n",
       "  'dateCreated': '2018-04-02T18:13:41Z',\n",
       "  'lastUpdated': '2018-04-02T18:39:07Z',\n",
       "  'lastUpdatedBy': 'dwieferich@usgs.gov'},\n",
       " 'purpose': 'These spatial data were ingested into the Spatial Feature Registry (SFR) data system within the Biological Information System.',\n",
       " 'relatedItems': {'link': {'rel': 'related',\n",
       "   'url': 'https://www.sciencebase.gov/catalog/itemLinks?itemId=5ac272d5e4b0e2c2dd0aa3e7'}},\n",
       " 'summary': 'Protected Areas Database of the United States (PAD-US) data registered into the spatial feature registry.  Source data are documented at https://www.sciencebase.gov/catalog/item/56bba648e4b08d617f657960.',\n",
       " 'tags': [{'name': 'Jurisdictional Units', 'type': 'Subject'},\n",
       "  {'name': 'Protected Areas', 'type': 'Subject'},\n",
       "  {'name': 'BIS Spatial Feature Registry', 'type': 'Subject'},\n",
       "  {'name': 'United States', 'type': 'Subject'}],\n",
       " 'title': 'Spatial Feature Registration Files for PAD-US',\n",
       " 'webLinks': [{'hidden': False,\n",
       "   'rel': 'related',\n",
       "   'title': 'source data documentation',\n",
       "   'type': 'webLink',\n",
       "   'typeLabel': 'Web Link',\n",
       "   'uri': 'https://www.sciencebase.gov/catalog/item/56bba648e4b08d617f657960'}]}"
      ]
     },
     "execution_count": 12,
     "metadata": {},
     "output_type": "execute_result"
    }
   ],
   "source": [
    "sb.upload_file_to_item(new_item, outfile_zip)"
   ]
  },
  {
   "cell_type": "code",
   "execution_count": null,
   "metadata": {
    "collapsed": true
   },
   "outputs": [],
   "source": []
  },
  {
   "cell_type": "code",
   "execution_count": null,
   "metadata": {
    "collapsed": true
   },
   "outputs": [],
   "source": [
    "#Currently the new SB item needs to have some additional information uploaded.  The UI can be used for this for now but in the future we will want to build as much as we can into this process."
   ]
  }
 ],
 "metadata": {
  "kernelspec": {
   "display_name": "Python 3",
   "language": "python",
   "name": "python3"
  },
  "language_info": {
   "codemirror_mode": {
    "name": "ipython",
    "version": 3
   },
   "file_extension": ".py",
   "mimetype": "text/x-python",
   "name": "python",
   "nbconvert_exporter": "python",
   "pygments_lexer": "ipython3",
   "version": "3.6.1"
  }
 },
 "nbformat": 4,
 "nbformat_minor": 2
}
