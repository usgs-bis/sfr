{
 "cells": [
  {
   "cell_type": "markdown",
   "metadata": {},
   "source": [
    "# States of Mexico into the Spatial Feature Registry\n",
    "\n",
    "#### This code is in progress.  The code registers the States of Mexico into the Spatial Feature Registry (SFR within Data Distilleries GC2 instance) using the following workflow.  All data are retained from the source (unaltered), three registration fields are added (_id, reg_date, reg_source) and data are exported to a GeoJSON file.   The GeoJSON file is then uploaded to ScienceBase to document the final data as it is represented in the SFR.  Currently we are uploading data to the SFR using a manual process, with plans to automate this step in the future. \n",
    "\n",
    "#### General workflow involves:\n",
    "     1: Retrieve Data From Source (ScienceBase Item: https://www.sciencebase.gov/catalog/item/5ab57393e4b081f61ab781f4)\n",
    "     2: Create GeoDataFrame and identify native crs\n",
    "     3: Define Variables needed throughout process\n",
    "     4: Create new ScienceBase item to describe registration process\n",
    "     5: Build and export GeoJSON representation of the data.  This process includes the addition of two registration fields that document information about registration (reg_source-> points to new SB item), and a registered uuid (_id).  \n",
    "     6: Upload GeoJSON file to new ScienceBase item to document what was registered into SFR, along with additional information about when and how registration occured.  This process will likely change as we introduce a more systematic way of tracking prov.   During this step the user will upload data to GC2 as well (SFR schema).  Currently this process is done manually through the UI.\n",
    "     "
   ]
  },
  {
   "cell_type": "markdown",
   "metadata": {
    "collapsed": true
   },
   "source": [
    "Code by: Daniel Wieferich (USGS)\n",
    "\n",
    "Date: 20180330"
   ]
  },
  {
   "cell_type": "code",
   "execution_count": 1,
   "metadata": {
    "collapsed": true
   },
   "outputs": [],
   "source": [
    "#Import Needed Packages\n",
    "import geopandas as gpd\n",
    "import urllib.request as ur\n",
    "import subprocess\n",
    "import geojson\n",
    "from sfr_load_utils import *"
   ]
  },
  {
   "cell_type": "markdown",
   "metadata": {},
   "source": [
    "#### Step 1: Retrieve data from source"
   ]
  },
  {
   "cell_type": "code",
   "execution_count": null,
   "metadata": {},
   "outputs": [],
   "source": [
    "### Step 1: Retrieve Dataset from ScienceBase\n",
    "#Geostatistical Framework of Mexico dataset stored at https://www.sciencebase.gov/catalog/item/5ab555c6e4b081f61ab78093\n",
    "\n",
    "#Define url of zipped shapefile download\n",
    "downloadUrl ='https://www.sciencebase.gov/catalog/file/get/5ab57393e4b081f61ab781f4?f=__disk__a3%2Fb6%2F61%2Fa3b6610d637a38e0f76ca42a86b07607b2abd7c7'\n",
    "#Download government unit file to local directory\n",
    "ur.urlretrieve(downloadUrl, '889463142683_s.zip')\n",
    "#In working directory unzips file\n",
    "subprocess.call(r'\"C:\\Program Files\\7-Zip\\7z.exe\" x ' + '889463142683_s.zip' )"
   ]
  },
  {
   "cell_type": "markdown",
   "metadata": {},
   "source": [
    "#### Step 2: Import shapefile into GeoDataFrame and identify native crs"
   ]
  },
  {
   "cell_type": "code",
   "execution_count": 3,
   "metadata": {},
   "outputs": [],
   "source": [
    "#GC2 currently does not hand the original epsg of 6372, transforming in python ran into issues so ESRI arcpy was used to do this step.\n",
    "import arcpy\n",
    "input_file = 'conjunto_de_datos/areas_geoestadisticas_estatales.shp'\n",
    "file = 'mexico_states_4326.shp'\n",
    "out_coord_sys = arcpy.SpatialReference('WGS 1984')\n",
    "arcpy.Project_management(input_file, file, out_coord_sys)"
   ]
  },
  {
   "cell_type": "code",
   "execution_count": 5,
   "metadata": {
    "collapsed": true
   },
   "outputs": [],
   "source": [
    "#Create GeoDataFrame from downloaded shapefile\n",
    "df = gpd.read_file(file)"
   ]
  },
  {
   "cell_type": "code",
   "execution_count": 6,
   "metadata": {},
   "outputs": [
    {
     "data": {
      "text/plain": [
       "{'init': 'epsg:4326'}"
      ]
     },
     "execution_count": 6,
     "metadata": {},
     "output_type": "execute_result"
    }
   ],
   "source": [
    "#Eventually will need a coded method to extract the epsg number (used as variable later), might be tricky given how this is returned\n",
    "df.crs"
   ]
  },
  {
   "cell_type": "markdown",
   "metadata": {},
   "source": [
    "#### Step 3: Define Variables"
   ]
  },
  {
   "cell_type": "code",
   "execution_count": 7,
   "metadata": {
    "collapsed": true
   },
   "outputs": [],
   "source": [
    "#User Defined Variables\n",
    "epsg = {'code':'4326'}    #starts as https://epsg.io/6372 but GC2 can't render this so transformed to 4326 (see above)\n",
    "expected_geom_type = 'MultiPolygon'\n",
    "outfile_name = 'mexico_states'\n",
    "source_sbitem = '5ab57393e4b081f61ab781f4'\n",
    "list_tags = ['Jurisdictional Units','Area Beyond National Jurisdiction','BIS Spatial Feature Registry','Mexico']\n",
    "date = '2018-04-06'\n"
   ]
  },
  {
   "cell_type": "markdown",
   "metadata": {},
   "source": [
    "#### Step 4: Create SB Item to describe SFR Registration "
   ]
  },
  {
   "cell_type": "code",
   "execution_count": 8,
   "metadata": {},
   "outputs": [
    {
     "name": "stdout",
     "output_type": "stream",
     "text": [
      "username: dwieferich@usgs.gov\n",
      "········\n",
      "https://www.sciencebase.gov/catalog/item/5ac79b0ee4b0e2c2dd1014d4\n"
     ]
    }
   ],
   "source": [
    "#Build SB Item to house SFR GeoJSON File, including description of item.  \n",
    "#This step outputs source_uri (uri to the new sb item that describes the data) to be included as registration information.\n",
    "\n",
    "#Turns list of tags into json format accepted by SB\n",
    "sb_tags = build_sb_tags(list_tags)\n",
    "#Create SB session and log in\n",
    "sb = sb_login()   \n",
    "#Creates JSON needed to build and describe new SB item\n",
    "item_info = sfr_item_info(sb,source_sbitem, sb_tags, date)\n",
    "#Builds new SB item\n",
    "new_item = build_new_sfr_sbitem(sb,item_info)\n",
    "#URI of new SB item.  This is inserted into GEOJSON so we have a direct connection in SFR to documentation... this step may not\n",
    "#be needed as we build prov capabilities.\n",
    "source_uri = str(new_item['link']['url'])\n",
    "print (source_uri)"
   ]
  },
  {
   "cell_type": "markdown",
   "metadata": {},
   "source": [
    "#### Step 5: Build and export GeoJSON representation of data.  Add registration id and source_uri (newly created SB item). Verify that the correct number of features were included in the GeoJSON dataset."
   ]
  },
  {
   "cell_type": "code",
   "execution_count": 9,
   "metadata": {},
   "outputs": [
    {
     "name": "stdout",
     "output_type": "stream",
     "text": [
      "Correct number of features\n"
     ]
    }
   ],
   "source": [
    "#verify correct number of features\n",
    "collection = df_to_geojson(df, epsg, source_uri, expected_geom_type)\n",
    "print (verify_correct_count(collection, df))\n"
   ]
  },
  {
   "cell_type": "code",
   "execution_count": 10,
   "metadata": {
    "collapsed": true
   },
   "outputs": [],
   "source": [
    "#export_geojson(outfile_name, collection)\n",
    "#Add file to SB Item\n",
    "file = export_geojson(outfile_name, collection)\n",
    "outfile_zip = zip_geojson(outfile_name)"
   ]
  },
  {
   "cell_type": "markdown",
   "metadata": {},
   "source": [
    "#### Step 6: Upload GeoJSON file to ScienceBase Item and also upload to GC2 using UI (make sure to specify UTF-8 encoding and MultiPolygon)."
   ]
  },
  {
   "cell_type": "code",
   "execution_count": 11,
   "metadata": {},
   "outputs": [
    {
     "data": {
      "text/plain": [
       "{'dates': [{'dateString': '2018-04-06',\n",
       "   'label': 'Creation',\n",
       "   'type': 'creation'},\n",
       "  {'dateString': '2017', 'label': 'Begin Position', 'type': 'beginPosition'},\n",
       "  {'dateString': '2017', 'label': 'End Position', 'type': 'endPosition'}],\n",
       " 'distributionLinks': [{'files': [{'contentType': 'application/zip',\n",
       "     'name': 'mexico_states.zip',\n",
       "     'size': 10383132,\n",
       "     'title': None}],\n",
       "   'name': 'SpatialFeatureR.zip',\n",
       "   'rel': 'alternate',\n",
       "   'title': 'Download Attached Files',\n",
       "   'type': 'downloadLink',\n",
       "   'typeLabel': 'Download Link',\n",
       "   'uri': 'https://www.sciencebase.gov/catalog/file/get/5ac79b0ee4b0e2c2dd1014d4'}],\n",
       " 'files': [{'checksum': None,\n",
       "   'contentEncoding': None,\n",
       "   'contentType': 'application/zip',\n",
       "   'dateUploaded': '2018-04-06T16:06:56Z',\n",
       "   'downloadUri': 'https://www.sciencebase.gov/catalog/file/get/5ac79b0ee4b0e2c2dd1014d4?f=__disk__45%2Fea%2F7f%2F45ea7f89fc2647b6b07c4c92f05272879074173a',\n",
       "   'imageHeight': None,\n",
       "   'imageWidth': None,\n",
       "   'name': 'mexico_states.zip',\n",
       "   'originalMetadata': None,\n",
       "   'pathOnDisk': '__disk__45/ea/7f/45ea7f89fc2647b6b07c4c92f05272879074173a',\n",
       "   'processToken': None,\n",
       "   'processed': None,\n",
       "   's3Object': None,\n",
       "   'size': 10383132,\n",
       "   'title': None,\n",
       "   'uploadedBy': 'dwieferich@usgs.gov',\n",
       "   'url': 'https://www.sciencebase.gov/catalog/file/get/5ac79b0ee4b0e2c2dd1014d4?f=__disk__45%2Fea%2F7f%2F45ea7f89fc2647b6b07c4c92f05272879074173a',\n",
       "   'useForPreview': None}],\n",
       " 'hasChildren': False,\n",
       " 'id': '5ac79b0ee4b0e2c2dd1014d4',\n",
       " 'link': {'rel': 'self',\n",
       "  'url': 'https://www.sciencebase.gov/catalog/item/5ac79b0ee4b0e2c2dd1014d4'},\n",
       " 'locked': False,\n",
       " 'parentId': '55fafaf5e4b05d6c4e501b81',\n",
       " 'permissions': {'read': {'acl': ['PUBLIC'],\n",
       "   'inherited': True,\n",
       "   'inheritsFromId': '4f4e4760e4b07f02db47df9b'},\n",
       "  'write': {'acl': None,\n",
       "   'inherited': True,\n",
       "   'inheritsFromId': '4f4e4760e4b07f02db47df9b'}},\n",
       " 'provenance': {'createdBy': 'dwieferich@usgs.gov',\n",
       "  'dateCreated': '2018-04-06T16:06:38Z',\n",
       "  'lastUpdated': '2018-04-06T16:06:56Z',\n",
       "  'lastUpdatedBy': 'dwieferich@usgs.gov'},\n",
       " 'purpose': 'These spatial data were ingested into the Spatial Feature Registry (SFR) data system within the Biological Information System.',\n",
       " 'relatedItems': {'link': {'rel': 'related',\n",
       "   'url': 'https://www.sciencebase.gov/catalog/itemLinks?itemId=5ac79b0ee4b0e2c2dd1014d4'}},\n",
       " 'tags': [{'name': 'Jurisdictional Units', 'type': 'Subject'},\n",
       "  {'name': 'Area Beyond National Jurisdiction', 'type': 'Subject'},\n",
       "  {'name': 'BIS Spatial Feature Registry', 'type': 'Subject'},\n",
       "  {'name': 'Mexico', 'type': 'Subject'}],\n",
       " 'title': 'Spatial Feature Registration Files for States of Mexico',\n",
       " 'webLinks': [{'hidden': False,\n",
       "   'rel': 'related',\n",
       "   'title': 'source data documentation',\n",
       "   'type': 'webLink',\n",
       "   'typeLabel': 'Web Link',\n",
       "   'uri': 'https://www.sciencebase.gov/catalog/item/5ab57393e4b081f61ab781f4'}]}"
      ]
     },
     "execution_count": 11,
     "metadata": {},
     "output_type": "execute_result"
    }
   ],
   "source": [
    "sb.upload_file_to_item(new_item, outfile_zip)"
   ]
  },
  {
   "cell_type": "code",
   "execution_count": null,
   "metadata": {
    "collapsed": true
   },
   "outputs": [],
   "source": []
  },
  {
   "cell_type": "code",
   "execution_count": null,
   "metadata": {
    "collapsed": true
   },
   "outputs": [],
   "source": [
    "#Currently the new SB item needs to have some additional information uploaded.  The UI can be used for this for now but in the future we will want to build as much as we can into this process."
   ]
  }
 ],
 "metadata": {
  "kernelspec": {
   "display_name": "Python 3",
   "language": "python",
   "name": "python3"
  },
  "language_info": {
   "codemirror_mode": {
    "name": "ipython",
    "version": 3
   },
   "file_extension": ".py",
   "mimetype": "text/x-python",
   "name": "python",
   "nbconvert_exporter": "python",
   "pygments_lexer": "ipython3",
   "version": "3.6.1"
  }
 },
 "nbformat": 4,
 "nbformat_minor": 2
}
