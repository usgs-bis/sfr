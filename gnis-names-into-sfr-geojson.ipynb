{
 "cells": [
  {
   "cell_type": "markdown",
   "metadata": {},
   "source": [
    "# GNIS Names into the Spatial Feature Registry\n",
    "\n",
    "#### This code is in progress.  The code registers the GNIS names into the Spatial Feature Registry (SFR within Data Distilleries GC2 instance) using the following workflow.  All data are retained from the source (unaltered), three registration fields are added (_id, reg_date, reg_source) and data are exported to a GeoJSON file.   The GeoJSON file is then uploaded to ScienceBase to document the final data as it is represented in the SFR.  Currently we are uploading data to the SFR using a manual process, with plans to automate this step in the future. \n",
    "\n",
    "#### General workflow involves:\n",
    "     1: Retrieve Data From Source (ScienceBase Item: 5ace95e3e4b0e2c2dd1a688f)\n",
    "     2: Create GeoDataFrame from CSV\n",
    "     3: Define Variables needed throughout process\n",
    "     4: Create new ScienceBase item to describe registration process\n",
    "     5: Build and export GeoJSON representation of the data.  This process includes the addition of two registration fields that document information about registration (reg_source-> points to new SB item), and a registered uuid (_id).  \n",
    "     6: Upload GeoJSON file to new ScienceBase item to document what was registered into SFR, along with additional information about when and how registration occured.  This process will likely change as we introduce a more systematic way of tracking prov.   During this step the user will upload data to GC2 as well (SFR schema).  Currently this process is done manually through the UI.\n",
    "     "
   ]
  },
  {
   "cell_type": "markdown",
   "metadata": {
    "collapsed": true
   },
   "source": [
    "Code by: Daniel Wieferich (USGS)\n",
    "\n",
    "Date: 20180510"
   ]
  },
  {
   "cell_type": "code",
   "execution_count": 1,
   "metadata": {
    "collapsed": true
   },
   "outputs": [],
   "source": [
    "#Import Needed Packages\n",
    "import pandas as pd\n",
    "import fiona\n",
    "from shapely.geometry import Point\n",
    "import geopandas as gpd\n",
    "import urllib.request as ur\n",
    "import subprocess\n",
    "import geojson\n",
    "from sfr_load_utils import *\n",
    "import numpy as np"
   ]
  },
  {
   "cell_type": "markdown",
   "metadata": {},
   "source": [
    "#### Step 1: Retrieve data from source\n"
   ]
  },
  {
   "cell_type": "code",
   "execution_count": 2,
   "metadata": {},
   "outputs": [
    {
     "data": {
      "text/plain": [
       "0"
      ]
     },
     "execution_count": 2,
     "metadata": {},
     "output_type": "execute_result"
    }
   ],
   "source": [
    "#Retrieve Dataset from ScienceBase\n",
    "#Dam Removal Database V2 stored at https://www.sciencebase.gov/catalog/item/5ace95e3e4b0e2c2dd1a688f\n",
    "\n",
    "file_name = 'NationalFile'\n",
    "\n",
    "#Define url of zipped shapefile download\n",
    "downloadUrl ='https://geonames.usgs.gov/docs/stategaz/NationalFile.zip'\n",
    "#Download government unit file to local directory\n",
    "ur.urlretrieve(downloadUrl, file_name+'.zip')\n",
    "#In working directory unzips file\n",
    "subprocess.call(r'\"C:\\Program Files\\7-Zip\\7z.exe\" x ' + 'NationalFile.zip' )"
   ]
  },
  {
   "cell_type": "markdown",
   "metadata": {},
   "source": [
    "#### Step 2: Import CSV into GeoDataFrame"
   ]
  },
  {
   "cell_type": "code",
   "execution_count": 3,
   "metadata": {
    "collapsed": true
   },
   "outputs": [],
   "source": [
    "# Read downloaded file into a pandas dataframe.  Note there are weird characters requiring the ISO encoding\n",
    "df_gnis = pd.read_csv(file_name+'_20180601.txt', sep='|', encoding = 'utf-8')"
   ]
  },
  {
   "cell_type": "code",
   "execution_count": 4,
   "metadata": {},
   "outputs": [
    {
     "data": {
      "text/html": [
       "<div>\n",
       "<style scoped>\n",
       "    .dataframe tbody tr th:only-of-type {\n",
       "        vertical-align: middle;\n",
       "    }\n",
       "\n",
       "    .dataframe tbody tr th {\n",
       "        vertical-align: top;\n",
       "    }\n",
       "\n",
       "    .dataframe thead th {\n",
       "        text-align: right;\n",
       "    }\n",
       "</style>\n",
       "<table border=\"1\" class=\"dataframe\">\n",
       "  <thead>\n",
       "    <tr style=\"text-align: right;\">\n",
       "      <th></th>\n",
       "      <th>FEATURE_ID</th>\n",
       "      <th>FEATURE_NAME</th>\n",
       "      <th>FEATURE_CLASS</th>\n",
       "      <th>STATE_ALPHA</th>\n",
       "      <th>STATE_NUMERIC</th>\n",
       "      <th>COUNTY_NAME</th>\n",
       "      <th>COUNTY_NUMERIC</th>\n",
       "      <th>PRIMARY_LAT_DMS</th>\n",
       "      <th>PRIM_LONG_DMS</th>\n",
       "      <th>PRIM_LAT_DEC</th>\n",
       "      <th>PRIM_LONG_DEC</th>\n",
       "      <th>SOURCE_LAT_DMS</th>\n",
       "      <th>SOURCE_LONG_DMS</th>\n",
       "      <th>SOURCE_LAT_DEC</th>\n",
       "      <th>SOURCE_LONG_DEC</th>\n",
       "      <th>ELEV_IN_M</th>\n",
       "      <th>ELEV_IN_FT</th>\n",
       "      <th>MAP_NAME</th>\n",
       "      <th>DATE_CREATED</th>\n",
       "      <th>DATE_EDITED</th>\n",
       "    </tr>\n",
       "  </thead>\n",
       "  <tbody>\n",
       "    <tr>\n",
       "      <th>0</th>\n",
       "      <td>0</td>\n",
       "      <td>Bruceville Cemetery</td>\n",
       "      <td>Cemetery</td>\n",
       "      <td>CO</td>\n",
       "      <td>8</td>\n",
       "      <td>Boulder</td>\n",
       "      <td>13.0</td>\n",
       "      <td>400058N</td>\n",
       "      <td>1051226W</td>\n",
       "      <td>40.016099</td>\n",
       "      <td>-105.207171</td>\n",
       "      <td>NaN</td>\n",
       "      <td>NaN</td>\n",
       "      <td>NaN</td>\n",
       "      <td>NaN</td>\n",
       "      <td>1598.0</td>\n",
       "      <td>5243.0</td>\n",
       "      <td>Niwot</td>\n",
       "      <td>05/04/2015</td>\n",
       "      <td>10/22/2015</td>\n",
       "    </tr>\n",
       "    <tr>\n",
       "      <th>1</th>\n",
       "      <td>399</td>\n",
       "      <td>Agua Sal Creek</td>\n",
       "      <td>Stream</td>\n",
       "      <td>AZ</td>\n",
       "      <td>4</td>\n",
       "      <td>Apache</td>\n",
       "      <td>1.0</td>\n",
       "      <td>362740N</td>\n",
       "      <td>1092842W</td>\n",
       "      <td>36.461112</td>\n",
       "      <td>-109.478439</td>\n",
       "      <td>362053N</td>\n",
       "      <td>1090915W</td>\n",
       "      <td>36.348058</td>\n",
       "      <td>-109.154266</td>\n",
       "      <td>1645.0</td>\n",
       "      <td>5397.0</td>\n",
       "      <td>Fire Dance Mesa</td>\n",
       "      <td>02/08/1980</td>\n",
       "      <td>NaN</td>\n",
       "    </tr>\n",
       "    <tr>\n",
       "      <th>2</th>\n",
       "      <td>400</td>\n",
       "      <td>Agua Sal Wash</td>\n",
       "      <td>Valley</td>\n",
       "      <td>AZ</td>\n",
       "      <td>4</td>\n",
       "      <td>Apache</td>\n",
       "      <td>1.0</td>\n",
       "      <td>363246N</td>\n",
       "      <td>1093103W</td>\n",
       "      <td>36.546112</td>\n",
       "      <td>-109.517607</td>\n",
       "      <td>362740N</td>\n",
       "      <td>1092842W</td>\n",
       "      <td>36.461112</td>\n",
       "      <td>-109.478439</td>\n",
       "      <td>1597.0</td>\n",
       "      <td>5239.0</td>\n",
       "      <td>Little Round Rock</td>\n",
       "      <td>02/08/1980</td>\n",
       "      <td>NaN</td>\n",
       "    </tr>\n",
       "    <tr>\n",
       "      <th>3</th>\n",
       "      <td>401</td>\n",
       "      <td>Aguaje Draw</td>\n",
       "      <td>Valley</td>\n",
       "      <td>AZ</td>\n",
       "      <td>4</td>\n",
       "      <td>Apache</td>\n",
       "      <td>1.0</td>\n",
       "      <td>343417N</td>\n",
       "      <td>1091313W</td>\n",
       "      <td>34.571428</td>\n",
       "      <td>-109.220370</td>\n",
       "      <td>344308N</td>\n",
       "      <td>1085826W</td>\n",
       "      <td>34.718800</td>\n",
       "      <td>-108.973900</td>\n",
       "      <td>1750.0</td>\n",
       "      <td>5741.0</td>\n",
       "      <td>Kearn Lake</td>\n",
       "      <td>02/08/1980</td>\n",
       "      <td>01/14/2008</td>\n",
       "    </tr>\n",
       "    <tr>\n",
       "      <th>4</th>\n",
       "      <td>402</td>\n",
       "      <td>Arlington State Wildlife Area</td>\n",
       "      <td>Park</td>\n",
       "      <td>AZ</td>\n",
       "      <td>4</td>\n",
       "      <td>Maricopa</td>\n",
       "      <td>13.0</td>\n",
       "      <td>331455N</td>\n",
       "      <td>1124625W</td>\n",
       "      <td>33.248655</td>\n",
       "      <td>-112.773504</td>\n",
       "      <td>NaN</td>\n",
       "      <td>NaN</td>\n",
       "      <td>NaN</td>\n",
       "      <td>NaN</td>\n",
       "      <td>231.0</td>\n",
       "      <td>758.0</td>\n",
       "      <td>Spring Mountain</td>\n",
       "      <td>02/08/1980</td>\n",
       "      <td>NaN</td>\n",
       "    </tr>\n",
       "  </tbody>\n",
       "</table>\n",
       "</div>"
      ],
      "text/plain": [
       "   FEATURE_ID                   FEATURE_NAME FEATURE_CLASS STATE_ALPHA  \\\n",
       "0           0            Bruceville Cemetery      Cemetery          CO   \n",
       "1         399                 Agua Sal Creek        Stream          AZ   \n",
       "2         400                  Agua Sal Wash        Valley          AZ   \n",
       "3         401                    Aguaje Draw        Valley          AZ   \n",
       "4         402  Arlington State Wildlife Area          Park          AZ   \n",
       "\n",
       "   STATE_NUMERIC COUNTY_NAME  COUNTY_NUMERIC PRIMARY_LAT_DMS PRIM_LONG_DMS  \\\n",
       "0              8     Boulder            13.0         400058N      1051226W   \n",
       "1              4      Apache             1.0         362740N      1092842W   \n",
       "2              4      Apache             1.0         363246N      1093103W   \n",
       "3              4      Apache             1.0         343417N      1091313W   \n",
       "4              4    Maricopa            13.0         331455N      1124625W   \n",
       "\n",
       "   PRIM_LAT_DEC  PRIM_LONG_DEC SOURCE_LAT_DMS SOURCE_LONG_DMS  SOURCE_LAT_DEC  \\\n",
       "0     40.016099    -105.207171            NaN             NaN             NaN   \n",
       "1     36.461112    -109.478439        362053N        1090915W       36.348058   \n",
       "2     36.546112    -109.517607        362740N        1092842W       36.461112   \n",
       "3     34.571428    -109.220370        344308N        1085826W       34.718800   \n",
       "4     33.248655    -112.773504            NaN             NaN             NaN   \n",
       "\n",
       "   SOURCE_LONG_DEC  ELEV_IN_M  ELEV_IN_FT           MAP_NAME DATE_CREATED  \\\n",
       "0              NaN     1598.0      5243.0              Niwot   05/04/2015   \n",
       "1      -109.154266     1645.0      5397.0    Fire Dance Mesa   02/08/1980   \n",
       "2      -109.478439     1597.0      5239.0  Little Round Rock   02/08/1980   \n",
       "3      -108.973900     1750.0      5741.0         Kearn Lake   02/08/1980   \n",
       "4              NaN      231.0       758.0    Spring Mountain   02/08/1980   \n",
       "\n",
       "  DATE_EDITED  \n",
       "0  10/22/2015  \n",
       "1         NaN  \n",
       "2         NaN  \n",
       "3  01/14/2008  \n",
       "4         NaN  "
      ]
     },
     "execution_count": 4,
     "metadata": {},
     "output_type": "execute_result"
    }
   ],
   "source": [
    "df_gnis.head()"
   ]
  },
  {
   "cell_type": "code",
   "execution_count": 5,
   "metadata": {},
   "outputs": [
    {
     "data": {
      "text/plain": [
       "(2277132, 20)"
      ]
     },
     "execution_count": 5,
     "metadata": {},
     "output_type": "execute_result"
    }
   ],
   "source": [
    "df_gnis.shape"
   ]
  },
  {
   "cell_type": "code",
   "execution_count": 6,
   "metadata": {},
   "outputs": [
    {
     "data": {
      "text/plain": [
       "(2277132, 20)"
      ]
     },
     "execution_count": 6,
     "metadata": {},
     "output_type": "execute_result"
    }
   ],
   "source": [
    "#Make sure no missing geometry\n",
    "df_gnis_test = df_gnis.dropna(axis=0, subset=['PRIM_LAT_DEC','PRIM_LONG_DEC'],thresh=1)\n",
    "df_gnis_test.shape"
   ]
  },
  {
   "cell_type": "code",
   "execution_count": 7,
   "metadata": {
    "collapsed": true
   },
   "outputs": [],
   "source": [
    "df_gnis = df_gnis.replace(np.nan, '', regex=True)\n",
    "geometry = [Point(xy) for xy in zip(df_gnis.PRIM_LAT_DEC, df_gnis.PRIM_LONG_DEC)]\n",
    "gdf_gnis = gpd.GeoDataFrame(df_gnis, crs={'init':'epsg:4269'}, geometry=geometry)"
   ]
  },
  {
   "cell_type": "code",
   "execution_count": 8,
   "metadata": {},
   "outputs": [
    {
     "data": {
      "text/plain": [
       "(2277132, 21)"
      ]
     },
     "execution_count": 8,
     "metadata": {},
     "output_type": "execute_result"
    }
   ],
   "source": [
    "gdf_gnis.shape"
   ]
  },
  {
   "cell_type": "code",
   "execution_count": 14,
   "metadata": {
    "collapsed": true
   },
   "outputs": [],
   "source": [
    "epsg = {'code':'4269'}\n",
    "expected_geom_type = 'Point'\n",
    "source_uri = 'https://www.sciencebase.gov/catalog/item/5af6219be4b0da30c1b5faad'\n",
    "outfile_name = 'gnis_20180601'"
   ]
  },
  {
   "cell_type": "code",
   "execution_count": 15,
   "metadata": {
    "collapsed": true
   },
   "outputs": [],
   "source": [
    "collection = df_to_geojson(gdf_gnis, epsg, source_uri, expected_geom_type)"
   ]
  },
  {
   "cell_type": "code",
   "execution_count": 16,
   "metadata": {
    "collapsed": true
   },
   "outputs": [],
   "source": [
    "file = export_geojson(outfile_name, collection)\n",
    "outfile_zip = zip_geojson(outfile_name)"
   ]
  },
  {
   "cell_type": "code",
   "execution_count": null,
   "metadata": {
    "collapsed": true
   },
   "outputs": [],
   "source": []
  },
  {
   "cell_type": "markdown",
   "metadata": {},
   "source": [
    "#### Step 3: Define Variables"
   ]
  },
  {
   "cell_type": "code",
   "execution_count": 17,
   "metadata": {
    "collapsed": true
   },
   "outputs": [],
   "source": [
    "#User Defined Variables\n",
    "epsg = {'code':'4269'}\n",
    "expected_geom_type = 'Point'\n",
    "source_sbitem = 'https://geonames.usgs.gov'\n",
    "list_tags = ['gnis names','BIS Spatial Feature Registry']\n",
    "date = '2018-06-29'\n",
    "data_name = 'Spatial Features from GNIS Names'"
   ]
  },
  {
   "cell_type": "markdown",
   "metadata": {},
   "source": [
    "#### Step 4: Create SB Item to describe SFR Registration "
   ]
  },
  {
   "cell_type": "code",
   "execution_count": 18,
   "metadata": {},
   "outputs": [
    {
     "name": "stdout",
     "output_type": "stream",
     "text": [
      "username: dwieferich@usgs.gov\n",
      "········\n",
      "{'title': 'Spatial Feature Registration Files for GNIS Names (National File 2018-06-29) Database', 'parentId': '55fafaf5e4b05d6c4e501b81', 'summary': 'GNIS names data registered into the spatial feature registry. Source data are documented at https://geonames.usgs.gov', 'tags': [{'type': 'Subject', 'name': 'gnis'}, {'type': 'Subject', 'name': 'BIS Spatial Feature Registry'}], 'dates': [{'type': 'creation', 'dateString': '2018-06-29', 'label': 'Creation'}, {'type': 'Release Date', 'dateString': '2018-06-01', 'label': 'Release Date'}], 'purpose': 'These spatial data were ingested into the Spatial Feature Registry (SFR) data system within the Biological Information System.', 'webLinks': [{'type': 'webLink', 'typeLabel': 'Web Link', 'uri': 'https://geonames.usgs.gov/docs/stategaz/NationalFile.zip', 'rel': 'related', 'title': 'source data download'}]}\n"
     ]
    }
   ],
   "source": [
    "#Build SB Item to house SFR GeoJSON File, including description of item.  \n",
    "#This step outputs source_uri (uri to the new sb item that describes the data) to be included as registration information.\n",
    "\n",
    "#Turns list of tags into json format accepted by SB\n",
    "sb_tags = build_sb_tags(list_tags)\n",
    "#Create SB session and log in\n",
    "sb = sb_login()   \n",
    "#Creates JSON needed to build and describe new SB item\n",
    "item_info = {'title': 'Spatial Feature Registration Files for GNIS Names (National File 2018-06-29) Database', 'parentId': '55fafaf5e4b05d6c4e501b81', 'summary': 'GNIS names data registered into the spatial feature registry. Source data are documented at https://geonames.usgs.gov', 'tags': [{'type': 'Subject', 'name': 'gnis'}, {'type': 'Subject', 'name': 'BIS Spatial Feature Registry'}], 'dates': [{'type': 'creation', 'dateString': '2018-06-29', 'label': 'Creation'},{'type': 'Release Date', 'dateString': '2018-06-01', 'label': 'Release Date'}], 'purpose': 'These spatial data were ingested into the Spatial Feature Registry (SFR) data system within the Biological Information System.', 'webLinks': [{'type': 'webLink', 'typeLabel': 'Web Link', 'uri': 'https://geonames.usgs.gov/docs/stategaz/NationalFile.zip', 'rel': 'related', 'title': 'source data download'}]}\n",
    "print (item_info)\n",
    "#Builds new SB item\n",
    "new_item = build_new_sfr_sbitem(sb,item_info)\n",
    "#URI of new SB item.  This is inserted into GEOJSON so we have a direct connection in SFR to documentation... this step may not\n",
    "#be needed as we build prov capabilities.\n"
   ]
  },
  {
   "cell_type": "code",
   "execution_count": 19,
   "metadata": {},
   "outputs": [
    {
     "name": "stdout",
     "output_type": "stream",
     "text": [
      "https://www.sciencebase.gov/catalog/item/5b367691e4b040769c1754e7\n"
     ]
    }
   ],
   "source": [
    "source_uri = str(new_item['link']['url'])\n",
    "print (source_uri)"
   ]
  },
  {
   "cell_type": "markdown",
   "metadata": {},
   "source": [
    "#### Step 5: Build and export GeoJSON representation of data.  Add registration id and source_uri (newly created SB item). Verify that the correct number of features were included in the GeoJSON dataset."
   ]
  },
  {
   "cell_type": "code",
   "execution_count": 20,
   "metadata": {},
   "outputs": [
    {
     "name": "stdout",
     "output_type": "stream",
     "text": [
      "Correct number of features\n"
     ]
    }
   ],
   "source": [
    "collection = df_to_geojson(gdf_gnis, epsg, source_uri, expected_geom_type)\n",
    "print (verify_correct_count(collection, gdf_gnis))\n",
    "\n",
    "#export_geojson(outfile_name, collection)\n",
    "#Add file to SB Item"
   ]
  },
  {
   "cell_type": "code",
   "execution_count": 21,
   "metadata": {
    "collapsed": true
   },
   "outputs": [],
   "source": [
    "file = export_geojson(outfile_name, collection)\n",
    "outfile_zip = zip_geojson(outfile_name)"
   ]
  },
  {
   "cell_type": "markdown",
   "metadata": {},
   "source": [
    "#### Step 6: Upload GeoJSON file to ScienceBase Item and also upload to GC2 using UI (make sure to specify UTF-8 encoding and MultiPolygon)."
   ]
  },
  {
   "cell_type": "code",
   "execution_count": 22,
   "metadata": {},
   "outputs": [
    {
     "data": {
      "text/plain": [
       "{'body': 'GNIS Names data registered into the spatial feature registry. Source data are documented at&nbsp;<a href=\"https://geonames.usgs.gov%27%2C/\" style=\"box-sizing: border-box; color: rgb(35, 82, 124); text-decoration-line: underline; outline: -webkit-focus-ring-color auto 5px; outline-offset: -2px; font-family: &quot;Helvetica Neue&quot;, Helvetica, Arial, sans-serif; font-size: 14px;\">https://geonames.usgs.gov\\'</a>.',\n",
       " 'dates': [{'dateString': '2018-06-29',\n",
       "   'label': 'Creation',\n",
       "   'type': 'creation'},\n",
       "  {'dateString': '2018-06-01',\n",
       "   'label': 'Release Date',\n",
       "   'type': 'Release Date'}],\n",
       " 'distributionLinks': [{'files': [{'contentType': 'application/zip',\n",
       "     'name': 'gnis_20180601.zip',\n",
       "     'size': 195750841,\n",
       "     'title': None}],\n",
       "   'name': 'SpatialFeatureR.zip',\n",
       "   'rel': 'alternate',\n",
       "   'title': 'Download Attached Files',\n",
       "   'type': 'downloadLink',\n",
       "   'typeLabel': 'Download Link',\n",
       "   'uri': 'https://www.sciencebase.gov/catalog/file/get/5b367691e4b040769c1754e7'}],\n",
       " 'files': [{'checksum': None,\n",
       "   'contentEncoding': None,\n",
       "   'contentType': 'application/zip',\n",
       "   'dateUploaded': '2018-06-29T18:37:35Z',\n",
       "   'downloadUri': 'https://www.sciencebase.gov/catalog/file/get/5b367691e4b040769c1754e7?f=__disk__d5%2F53%2F92%2Fd553927c960ec303d39f6291d280c2305f20823c',\n",
       "   'imageHeight': None,\n",
       "   'imageWidth': None,\n",
       "   'name': 'gnis_20180601.zip',\n",
       "   'originalMetadata': None,\n",
       "   'pathOnDisk': '__disk__d5/53/92/d553927c960ec303d39f6291d280c2305f20823c',\n",
       "   'processToken': None,\n",
       "   'processed': None,\n",
       "   's3Object': None,\n",
       "   'size': 195750841,\n",
       "   'title': None,\n",
       "   'uploadedBy': 'dwieferich@usgs.gov',\n",
       "   'url': 'https://www.sciencebase.gov/catalog/file/get/5b367691e4b040769c1754e7?f=__disk__d5%2F53%2F92%2Fd553927c960ec303d39f6291d280c2305f20823c',\n",
       "   'useForPreview': None}],\n",
       " 'hasChildren': False,\n",
       " 'id': '5b367691e4b040769c1754e7',\n",
       " 'link': {'rel': 'self',\n",
       "  'url': 'https://www.sciencebase.gov/catalog/item/5b367691e4b040769c1754e7'},\n",
       " 'locked': False,\n",
       " 'parentId': '55fafaf5e4b05d6c4e501b81',\n",
       " 'permissions': {'read': {'acl': ['PUBLIC'],\n",
       "   'inherited': True,\n",
       "   'inheritsFromId': '4f4e4760e4b07f02db47df9b'},\n",
       "  'write': {'acl': None,\n",
       "   'inherited': True,\n",
       "   'inheritsFromId': '4f4e4760e4b07f02db47df9b'}},\n",
       " 'provenance': {'createdBy': 'dwieferich@usgs.gov',\n",
       "  'dateCreated': '2018-06-29T18:12:33Z',\n",
       "  'lastUpdated': '2018-06-29T18:37:35Z',\n",
       "  'lastUpdatedBy': 'dwieferich@usgs.gov'},\n",
       " 'purpose': 'These spatial data were ingested into the Spatial Feature Registry (SFR) data system within the Biological Information System.',\n",
       " 'relatedItems': {'link': {'rel': 'related',\n",
       "   'url': 'https://www.sciencebase.gov/catalog/itemLinks?itemId=5b367691e4b040769c1754e7'}},\n",
       " 'summary': \"GNIS Names data registered into the spatial feature registry. Source data are documented at https://geonames.usgs.gov'.\",\n",
       " 'tags': [{'name': 'gnis', 'type': 'Subject'},\n",
       "  {'name': 'BIS Spatial Feature Registry', 'type': 'Subject'}],\n",
       " 'title': 'Spatial Feature Registration Files for GNIS Names (National File 2018-06-29) Database',\n",
       " 'webLinks': [{'hidden': False,\n",
       "   'rel': 'related',\n",
       "   'title': 'source data download',\n",
       "   'type': 'webLink',\n",
       "   'typeLabel': 'Web Link',\n",
       "   'uri': 'https://geonames.usgs.gov/docs/stategaz/NationalFile.zip'}]}"
      ]
     },
     "execution_count": 22,
     "metadata": {},
     "output_type": "execute_result"
    }
   ],
   "source": [
    "sb.upload_file_to_item(new_item, outfile_zip)"
   ]
  },
  {
   "cell_type": "code",
   "execution_count": null,
   "metadata": {
    "collapsed": true
   },
   "outputs": [],
   "source": [
    "#Currently the new SB item needs to have some additional information uploaded.  The UI can be used for this for now but in the future we will want to build as much as we can into this process."
   ]
  },
  {
   "cell_type": "code",
   "execution_count": null,
   "metadata": {
    "collapsed": true
   },
   "outputs": [],
   "source": []
  },
  {
   "cell_type": "code",
   "execution_count": null,
   "metadata": {
    "collapsed": true
   },
   "outputs": [],
   "source": []
  },
  {
   "cell_type": "code",
   "execution_count": null,
   "metadata": {
    "collapsed": true
   },
   "outputs": [],
   "source": []
  },
  {
   "cell_type": "code",
   "execution_count": 1,
   "metadata": {
    "collapsed": true
   },
   "outputs": [],
   "source": [
    "#Import Needed Packages\n",
    "import pandas as pd\n",
    "import fiona\n",
    "from shapely.geometry import Point\n",
    "import geopandas as gpd\n",
    "import urllib.request as ur\n",
    "import subprocess\n",
    "import geojson\n",
    "from sfr_load_utils import *\n",
    "import numpy as np"
   ]
  },
  {
   "cell_type": "code",
   "execution_count": null,
   "metadata": {
    "collapsed": true
   },
   "outputs": [],
   "source": [
    "df.groupby(by='STATE_ALPHA')['FEATURE_ID'].count()"
   ]
  },
  {
   "cell_type": "code",
   "execution_count": 2,
   "metadata": {
    "collapsed": true
   },
   "outputs": [],
   "source": [
    "gdf_gnis = gpd.read_file('gnis_20180601.geojson')"
   ]
  },
  {
   "cell_type": "code",
   "execution_count": 74,
   "metadata": {},
   "outputs": [
    {
     "data": {
      "text/plain": [
       "(2277132, 23)"
      ]
     },
     "execution_count": 74,
     "metadata": {},
     "output_type": "execute_result"
    }
   ],
   "source": [
    "gdf_gnis.shape"
   ]
  },
  {
   "cell_type": "code",
   "execution_count": 72,
   "metadata": {
    "scrolled": true
   },
   "outputs": [
    {
     "name": "stderr",
     "output_type": "stream",
     "text": [
      "C:\\Users\\dwieferich\\AppData\\Local\\Continuum\\Anaconda3\\lib\\site-packages\\pandas\\core\\frame.py:3027: SettingWithCopyWarning: \n",
      "A value is trying to be set on a copy of a slice from a DataFrame\n",
      "\n",
      "See the caveats in the documentation: http://pandas.pydata.org/pandas-docs/stable/indexing.html#indexing-view-versus-copy\n",
      "  return super(DataFrame, self).rename(**kwargs)\n"
     ]
    }
   ],
   "source": [
    "#df2 = gdf_gnis[(gdf_gnis['FEATURE_ID'] < 800000)]\n",
    "#df2 = gdf_gnis[(gdf_gnis['FEATURE_ID'] >= 800000) & (gdf_gnis['FEATURE_ID'] < 1100000)]\n",
    "#df2 = gdf_gnis[(gdf_gnis['FEATURE_ID'] >= 1100000) & (gdf_gnis['FEATURE_ID'] < 1400000)]\n",
    "#df2 = gdf_gnis[(gdf_gnis['FEATURE_ID'] >= 1400000) & (gdf_gnis['FEATURE_ID'] < 1700000)]\n",
    "#df2 = gdf_gnis[(gdf_gnis['FEATURE_ID'] >= 1700000) & (gdf_gnis['FEATURE_ID'] < 2000000)]\n",
    "#df2 = gdf_gnis[(gdf_gnis['FEATURE_ID'] >= 2000000) & (gdf_gnis['FEATURE_ID'] < 2300000)]\n",
    "df2 = gdf_gnis[(gdf_gnis['FEATURE_ID'] >= 2300000)]\n",
    "df2.rename(columns={'_id': 'identifier'}, inplace=True)"
   ]
  },
  {
   "cell_type": "code",
   "execution_count": 73,
   "metadata": {},
   "outputs": [
    {
     "data": {
      "text/plain": [
       "(317777, 23)"
      ]
     },
     "execution_count": 73,
     "metadata": {},
     "output_type": "execute_result"
    }
   ],
   "source": [
    "df2.shape"
   ]
  },
  {
   "cell_type": "code",
   "execution_count": 75,
   "metadata": {
    "collapsed": true
   },
   "outputs": [],
   "source": [
    "epsg = {'code':'4269'}\n",
    "expected_geom_type = 'Point'\n",
    "source_uri = 'https://www.sciencebase.gov/catalog/item/5af6219be4b0da30c1b5faad'\n",
    "outfile_name = 'gnis/gnis_20180601'"
   ]
  },
  {
   "cell_type": "code",
   "execution_count": 76,
   "metadata": {},
   "outputs": [],
   "source": [
    "collection = df_2_geojson(df2, epsg, expected_geom_type)\n"
   ]
  },
  {
   "cell_type": "code",
   "execution_count": 77,
   "metadata": {},
   "outputs": [],
   "source": [
    "file = export_geojson(outfile_name, collection)\n"
   ]
  },
  {
   "cell_type": "code",
   "execution_count": 7,
   "metadata": {
    "collapsed": true
   },
   "outputs": [],
   "source": [
    "def df_2_geojson(df, epsg, expected_geom_type):\n",
    "    #Create basic JSON structure\n",
    "    collection = {'type':'FeatureCollection', 'crs': {'type': 'epsg', 'properties': epsg }, 'features':[]}\n",
    "\n",
    "    #Identify list of field names in df, this is used to populate the properties section of the structure\n",
    "    field_names = (list(df.columns.values))\n",
    "    field_names.remove('geometry')\n",
    "    #print (field_names)\n",
    "\n",
    "    #For each row in dataframe, populate geometry and properties\n",
    "    for row in df.itertuples():\n",
    "        geom = fix_geom_type(row, expected_geom_type)\n",
    "\n",
    "        feature = {'type':'Feature',\n",
    "                   'properties':{},\n",
    "                  'geometry': geom}\n",
    "        for field in field_names:\n",
    "            feature['properties'][field] = getattr(row, field)\n",
    "\n",
    "        collection['features'].append(feature)\n",
    "\n",
    "    return collection"
   ]
  },
  {
   "cell_type": "code",
   "execution_count": null,
   "metadata": {
    "collapsed": true
   },
   "outputs": [],
   "source": []
  }
 ],
 "metadata": {
  "kernelspec": {
   "display_name": "Python 3",
   "language": "python",
   "name": "python3"
  },
  "language_info": {
   "codemirror_mode": {
    "name": "ipython",
    "version": 3
   },
   "file_extension": ".py",
   "mimetype": "text/x-python",
   "name": "python",
   "nbconvert_exporter": "python",
   "pygments_lexer": "ipython3",
   "version": "3.6.1"
  }
 },
 "nbformat": 4,
 "nbformat_minor": 2
}
