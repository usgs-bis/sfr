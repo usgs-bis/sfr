{
 "cells": [
  {
   "cell_type": "markdown",
   "metadata": {},
   "source": [
    "# Canadian Provinces and Territories into the Spatial Feature Registry\n",
    "\n",
    "#### This code is in progress.  The code registers the Canadian Provinces and Territories into the Spatial Feature Registry (SFR within Data Distilleries GC2 instance) using the following workflow.  All data are retained from the source (unaltered), three registration fields are added (_id, reg_date, reg_source) and data are exported to a GeoJSON file.   The GeoJSON file is then uploaded to ScienceBase to document the final data as it is represented in the SFR.  Currently we are uploading data to the SFR using a manual process, with plans to automate this step in the future. \n",
    "\n",
    "#### General workflow involves:\n",
    "     1: Retrieve Data From Source (ScienceBase Item: https://www.sciencebase.gov/catalog/item/5ab555c6e4b081f61ab78093)\n",
    "     2: Create GeoDataFrame and identify native crs\n",
    "     3: Define Variables needed throughout process\n",
    "     4: Create new ScienceBase item to describe registration process\n",
    "     5: Build and export GeoJSON representation of the data.  This process includes the addition of two registration fields that document information about registration (reg_source-> points to new SB item), and a registered uuid (_id).  \n",
    "     6: Upload GeoJSON file to new ScienceBase item to document what was registered into SFR, along with additional information about when and how registration occured.  This process will likely change as we introduce a more systematic way of tracking prov.   During this step the user will upload data to GC2 as well (SFR schema).  Currently this process is done manually through the UI.\n",
    "     "
   ]
  },
  {
   "cell_type": "markdown",
   "metadata": {
    "collapsed": true
   },
   "source": [
    "Code by: Daniel Wieferich (USGS)\n",
    "\n",
    "Date: 20180330"
   ]
  },
  {
   "cell_type": "code",
   "execution_count": 1,
   "metadata": {
    "collapsed": true
   },
   "outputs": [],
   "source": [
    "#Import Needed Packages\n",
    "import geopandas as gpd\n",
    "import urllib.request as ur\n",
    "import subprocess\n",
    "import geojson\n",
    "from sfr_load_utils import *"
   ]
  },
  {
   "cell_type": "markdown",
   "metadata": {},
   "source": [
    "#### Step 1: Retrieve data from source"
   ]
  },
  {
   "cell_type": "code",
   "execution_count": 2,
   "metadata": {},
   "outputs": [
    {
     "data": {
      "text/plain": [
       "0"
      ]
     },
     "execution_count": 2,
     "metadata": {},
     "output_type": "execute_result"
    }
   ],
   "source": [
    "### Step 1: Retrieve Dataset from ScienceBase\n",
    "#Canadian Province and Territories Dataset stored at https://www.sciencebase.gov/catalog/item/5ab555c6e4b081f61ab78093\n",
    "\n",
    "#Define url of zipped shapefile download\n",
    "downloadUrl ='https://www.sciencebase.gov/catalog/file/get/5ab555c6e4b081f61ab78093?f=__disk__4b%2F5e%2Fcd%2F4b5ecde7655133bb7453079564cf963d555aaaad'\n",
    "#Download government unit file to local directory\n",
    "ur.urlretrieve(downloadUrl, 'gpr_00b11a_e.zip')\n",
    "#In working directory unzips file\n",
    "subprocess.call(r'\"C:\\Program Files\\7-Zip\\7z.exe\" x ' + 'gpr_00b11a_e.zip' )"
   ]
  },
  {
   "cell_type": "markdown",
   "metadata": {},
   "source": [
    "#### Step 2: Import shapefile into GeoDataFrame and identify native crs"
   ]
  },
  {
   "cell_type": "code",
   "execution_count": 3,
   "metadata": {
    "collapsed": true
   },
   "outputs": [],
   "source": [
    "#note the file name has one more '0' than the zip folder\n",
    "file = 'gpr_000b11a_e.shp'\n",
    "#Create GeoDataFrame from downloaded shapefile\n",
    "df = gpd.read_file(file)"
   ]
  },
  {
   "cell_type": "code",
   "execution_count": 4,
   "metadata": {},
   "outputs": [
    {
     "data": {
      "text/plain": [
       "{'init': 'epsg:4269'}"
      ]
     },
     "execution_count": 4,
     "metadata": {},
     "output_type": "execute_result"
    }
   ],
   "source": [
    "#Eventually will need a coded method to extract the epsg number (used as variable later), might be tricky given how this is returned\n",
    "df.crs"
   ]
  },
  {
   "cell_type": "code",
   "execution_count": 5,
   "metadata": {},
   "outputs": [
    {
     "data": {
      "text/html": [
       "<div>\n",
       "<style scoped>\n",
       "    .dataframe tbody tr th:only-of-type {\n",
       "        vertical-align: middle;\n",
       "    }\n",
       "\n",
       "    .dataframe tbody tr th {\n",
       "        vertical-align: top;\n",
       "    }\n",
       "\n",
       "    .dataframe thead th {\n",
       "        text-align: right;\n",
       "    }\n",
       "</style>\n",
       "<table border=\"1\" class=\"dataframe\">\n",
       "  <thead>\n",
       "    <tr style=\"text-align: right;\">\n",
       "      <th></th>\n",
       "      <th>PREABBR</th>\n",
       "      <th>PRENAME</th>\n",
       "      <th>PRFABBR</th>\n",
       "      <th>PRFNAME</th>\n",
       "      <th>PRNAME</th>\n",
       "      <th>PRUID</th>\n",
       "      <th>geometry</th>\n",
       "    </tr>\n",
       "  </thead>\n",
       "  <tbody>\n",
       "    <tr>\n",
       "      <th>0</th>\n",
       "      <td>B.C.</td>\n",
       "      <td>British Columbia</td>\n",
       "      <td>C.-B.</td>\n",
       "      <td>Colombie-Britannique</td>\n",
       "      <td>British Columbia / Colombie-Britannique</td>\n",
       "      <td>59</td>\n",
       "      <td>(POLYGON ((-123.5397725159999 48.3173484960000...</td>\n",
       "    </tr>\n",
       "    <tr>\n",
       "      <th>1</th>\n",
       "      <td>Que.</td>\n",
       "      <td>Quebec</td>\n",
       "      <td>Qc</td>\n",
       "      <td>Québec</td>\n",
       "      <td>Quebec / Québec</td>\n",
       "      <td>24</td>\n",
       "      <td>(POLYGON ((-74.63814234299991 44.9998372320000...</td>\n",
       "    </tr>\n",
       "    <tr>\n",
       "      <th>2</th>\n",
       "      <td>Nvt.</td>\n",
       "      <td>Nunavut</td>\n",
       "      <td>Nt</td>\n",
       "      <td>Nunavut</td>\n",
       "      <td>Nunavut</td>\n",
       "      <td>62</td>\n",
       "      <td>(POLYGON ((-79.99351691899994 51.2772504150000...</td>\n",
       "    </tr>\n",
       "    <tr>\n",
       "      <th>3</th>\n",
       "      <td>P.E.I.</td>\n",
       "      <td>Prince Edward Island</td>\n",
       "      <td>Î.-P.-É.</td>\n",
       "      <td>Île-du-Prince-Édouard</td>\n",
       "      <td>Prince Edward Island / Île-du-Prince-Édouard</td>\n",
       "      <td>11</td>\n",
       "      <td>(POLYGON ((-62.49301775499993 46.0251520690000...</td>\n",
       "    </tr>\n",
       "    <tr>\n",
       "      <th>4</th>\n",
       "      <td>Sask.</td>\n",
       "      <td>Saskatchewan</td>\n",
       "      <td>Sask.</td>\n",
       "      <td>Saskatchewan</td>\n",
       "      <td>Saskatchewan</td>\n",
       "      <td>47</td>\n",
       "      <td>POLYGON ((-102.0000000129999 59.99999999800008...</td>\n",
       "    </tr>\n",
       "  </tbody>\n",
       "</table>\n",
       "</div>"
      ],
      "text/plain": [
       "  PREABBR               PRENAME   PRFABBR                PRFNAME  \\\n",
       "0    B.C.      British Columbia     C.-B.   Colombie-Britannique   \n",
       "1    Que.                Quebec        Qc                 Québec   \n",
       "2    Nvt.               Nunavut        Nt                Nunavut   \n",
       "3  P.E.I.  Prince Edward Island  Î.-P.-É.  Île-du-Prince-Édouard   \n",
       "4   Sask.          Saskatchewan     Sask.           Saskatchewan   \n",
       "\n",
       "                                         PRNAME PRUID  \\\n",
       "0       British Columbia / Colombie-Britannique    59   \n",
       "1                               Quebec / Québec    24   \n",
       "2                                       Nunavut    62   \n",
       "3  Prince Edward Island / Île-du-Prince-Édouard    11   \n",
       "4                                  Saskatchewan    47   \n",
       "\n",
       "                                            geometry  \n",
       "0  (POLYGON ((-123.5397725159999 48.3173484960000...  \n",
       "1  (POLYGON ((-74.63814234299991 44.9998372320000...  \n",
       "2  (POLYGON ((-79.99351691899994 51.2772504150000...  \n",
       "3  (POLYGON ((-62.49301775499993 46.0251520690000...  \n",
       "4  POLYGON ((-102.0000000129999 59.99999999800008...  "
      ]
     },
     "execution_count": 5,
     "metadata": {},
     "output_type": "execute_result"
    }
   ],
   "source": [
    "df.head()"
   ]
  },
  {
   "cell_type": "markdown",
   "metadata": {},
   "source": [
    "#### Step 3: Define Variables"
   ]
  },
  {
   "cell_type": "code",
   "execution_count": 6,
   "metadata": {},
   "outputs": [],
   "source": [
    "#User Defined Variables\n",
    "epsg = {'code':'4269'}\n",
    "expected_geom_type = 'MultiPolygon'\n",
    "outfile_name = 'canadian_territories_provinces'\n",
    "source_sbitem = '5ab555c6e4b081f61ab78093'\n",
    "list_tags = ['Jurisdictional Units','Area Beyond National Jurisdiction','BIS Spatial Feature Registry','Canada']\n",
    "date = '2018-03-30'\n"
   ]
  },
  {
   "cell_type": "markdown",
   "metadata": {},
   "source": [
    "#### Step 4: Create SB Item to describe SFR Registration "
   ]
  },
  {
   "cell_type": "code",
   "execution_count": 7,
   "metadata": {},
   "outputs": [
    {
     "name": "stdout",
     "output_type": "stream",
     "text": [
      "username: dwieferich@usgs.gov\n",
      "········\n",
      "https://www.sciencebase.gov/catalog/item/5abea8cee4b081f61ac14e35\n"
     ]
    }
   ],
   "source": [
    "#Build SB Item to house SFR GeoJSON File, including description of item.  \n",
    "#This step outputs source_uri (uri to the new sb item that describes the data) to be included as registration information.\n",
    "\n",
    "#Turns list of tags into json format accepted by SB\n",
    "sb_tags = build_sb_tags(list_tags)\n",
    "#Create SB session and log in\n",
    "sb = sb_login()   \n",
    "#Creates JSON needed to build and describe new SB item\n",
    "item_info = sfr_item_info(sb,source_sbitem, sb_tags, date)\n",
    "#Builds new SB item\n",
    "new_item = build_new_sfr_sbitem(sb,item_info)\n",
    "#URI of new SB item.  This is inserted into GEOJSON so we have a direct connection in SFR to documentation... this step may not\n",
    "#be needed as we build prov capabilities.\n",
    "source_uri = str(new_item['link']['url'])\n",
    "print (source_uri)"
   ]
  },
  {
   "cell_type": "markdown",
   "metadata": {},
   "source": [
    "#### Step 5: Build and export GeoJSON representation of data.  Add registration id and source_uri (newly created SB item). Verify that the correct number of features were included in the GeoJSON dataset."
   ]
  },
  {
   "cell_type": "code",
   "execution_count": 8,
   "metadata": {},
   "outputs": [
    {
     "name": "stdout",
     "output_type": "stream",
     "text": [
      "Correct number of features\n"
     ]
    }
   ],
   "source": [
    "collection = df_to_geojson(df, epsg, source_uri, expected_geom_type)\n",
    "print (verify_correct_count(collection, df))\n",
    "\n",
    "#export_geojson(outfile_name, collection)\n",
    "#Add file to SB Item"
   ]
  },
  {
   "cell_type": "code",
   "execution_count": 9,
   "metadata": {
    "collapsed": true
   },
   "outputs": [],
   "source": [
    "file = export_geojson(outfile_name, collection)\n",
    "outfile_zip = zip_geojson(outfile_name)"
   ]
  },
  {
   "cell_type": "markdown",
   "metadata": {},
   "source": [
    "#### Step 6: Upload GeoJSON file to ScienceBase Item and also upload to GC2 using UI (make sure to specify UTF-8 encoding and MultiPolygon)."
   ]
  },
  {
   "cell_type": "code",
   "execution_count": 10,
   "metadata": {},
   "outputs": [
    {
     "data": {
      "text/plain": [
       "{'dates': [{'dateString': '2018-03-29',\n",
       "   'label': 'Creation',\n",
       "   'type': 'creation'},\n",
       "  {'dateString': '2011-11-29',\n",
       "   'label': 'Begin Position',\n",
       "   'type': 'beginPosition'},\n",
       "  {'dateString': '2011-11-29',\n",
       "   'label': 'End Position',\n",
       "   'type': 'endPosition'}],\n",
       " 'distributionLinks': [{'files': [{'contentType': 'application/zip',\n",
       "     'name': 'canadian_territories_provinces.zip',\n",
       "     'size': 40813445,\n",
       "     'title': None}],\n",
       "   'name': 'SpatialFeatureR.zip',\n",
       "   'rel': 'alternate',\n",
       "   'title': 'Download Attached Files',\n",
       "   'type': 'downloadLink',\n",
       "   'typeLabel': 'Download Link',\n",
       "   'uri': 'https://www.sciencebase.gov/catalog/file/get/5abea8cee4b081f61ac14e35'}],\n",
       " 'files': [{'checksum': None,\n",
       "   'contentEncoding': None,\n",
       "   'contentType': 'application/zip',\n",
       "   'dateUploaded': '2018-03-30T21:16:08Z',\n",
       "   'downloadUri': 'https://www.sciencebase.gov/catalog/file/get/5abea8cee4b081f61ac14e35?f=__disk__67%2F16%2F64%2F671664a7e04b8b2207cad33bbd2cdc0c98f4c0d3',\n",
       "   'imageHeight': None,\n",
       "   'imageWidth': None,\n",
       "   'name': 'canadian_territories_provinces.zip',\n",
       "   'originalMetadata': None,\n",
       "   'pathOnDisk': '__disk__67/16/64/671664a7e04b8b2207cad33bbd2cdc0c98f4c0d3',\n",
       "   'processToken': None,\n",
       "   'processed': None,\n",
       "   's3Object': None,\n",
       "   'size': 40813445,\n",
       "   'title': None,\n",
       "   'uploadedBy': 'dwieferich@usgs.gov',\n",
       "   'url': 'https://www.sciencebase.gov/catalog/file/get/5abea8cee4b081f61ac14e35?f=__disk__67%2F16%2F64%2F671664a7e04b8b2207cad33bbd2cdc0c98f4c0d3',\n",
       "   'useForPreview': None}],\n",
       " 'hasChildren': False,\n",
       " 'id': '5abea8cee4b081f61ac14e35',\n",
       " 'link': {'rel': 'self',\n",
       "  'url': 'https://www.sciencebase.gov/catalog/item/5abea8cee4b081f61ac14e35'},\n",
       " 'locked': False,\n",
       " 'parentId': '55fafaf5e4b05d6c4e501b81',\n",
       " 'permissions': {'read': {'acl': ['PUBLIC'],\n",
       "   'inherited': True,\n",
       "   'inheritsFromId': '4f4e4760e4b07f02db47df9b'},\n",
       "  'write': {'acl': None,\n",
       "   'inherited': True,\n",
       "   'inheritsFromId': '4f4e4760e4b07f02db47df9b'}},\n",
       " 'provenance': {'createdBy': 'dwieferich@usgs.gov',\n",
       "  'dateCreated': '2018-03-30T21:14:54Z',\n",
       "  'lastUpdated': '2018-03-30T21:16:08Z',\n",
       "  'lastUpdatedBy': 'dwieferich@usgs.gov'},\n",
       " 'purpose': 'These spatial data were ingested into the Spatial Feature Registry (SFR) data system within the Biological Information System.',\n",
       " 'relatedItems': {'link': {'rel': 'related',\n",
       "   'url': 'https://www.sciencebase.gov/catalog/itemLinks?itemId=5abea8cee4b081f61ac14e35'}},\n",
       " 'tags': [{'name': 'Jurisdictional Units', 'type': 'Subject'},\n",
       "  {'name': 'Area Beyond National Jurisdiction', 'type': 'Subject'},\n",
       "  {'name': 'BIS Spatial Feature Registry', 'type': 'Subject'},\n",
       "  {'name': 'Canada', 'type': 'Subject'}],\n",
       " 'title': 'Spatial Feature Registration Files for Canadian Provinces and Territories',\n",
       " 'webLinks': [{'hidden': False,\n",
       "   'rel': 'related',\n",
       "   'title': 'source data documentation',\n",
       "   'type': 'webLink',\n",
       "   'typeLabel': 'Web Link',\n",
       "   'uri': 'https://www.sciencebase.gov/catalog/item/5ab555c6e4b081f61ab78093'}]}"
      ]
     },
     "execution_count": 10,
     "metadata": {},
     "output_type": "execute_result"
    }
   ],
   "source": [
    "sb.upload_file_to_item(new_item, outfile_zip)"
   ]
  },
  {
   "cell_type": "code",
   "execution_count": null,
   "metadata": {
    "collapsed": true
   },
   "outputs": [],
   "source": []
  },
  {
   "cell_type": "code",
   "execution_count": null,
   "metadata": {
    "collapsed": true
   },
   "outputs": [],
   "source": [
    "#Currently the new SB item needs to have some additional information uploaded.  The UI can be used for this for now but in the future we will want to build as much as we can into this process."
   ]
  }
 ],
 "metadata": {
  "kernelspec": {
   "display_name": "Python 3",
   "language": "python",
   "name": "python3"
  },
  "language_info": {
   "codemirror_mode": {
    "name": "ipython",
    "version": 3
   },
   "file_extension": ".py",
   "mimetype": "text/x-python",
   "name": "python",
   "nbconvert_exporter": "python",
   "pygments_lexer": "ipython3",
   "version": "3.6.1"
  }
 },
 "nbformat": 4,
 "nbformat_minor": 2
}
